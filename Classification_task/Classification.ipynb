{
 "cells": [
  {
   "cell_type": "markdown",
   "metadata": {},
   "source": [
    "# 0. Import Libraries and Read source data"
   ]
  },
  {
   "cell_type": "code",
   "execution_count": null,
   "metadata": {},
   "outputs": [],
   "source": [
    "import pandas as pd\n",
    "from datetime import datetime\n",
    "import numpy as np"
   ]
  },
  {
   "cell_type": "code",
   "execution_count": null,
   "metadata": {},
   "outputs": [],
   "source": [
    "samples = pd.read_csv('./application_samples.csv')"
   ]
  },
  {
   "cell_type": "code",
   "execution_count": null,
   "metadata": {},
   "outputs": [],
   "source": [
    "features = pd.read_csv('./credit_features.csv')"
   ]
  },
  {
   "cell_type": "code",
   "execution_count": null,
   "metadata": {},
   "outputs": [],
   "source": [
    "data_dict = pd.read_csv('./data_dictionary.csv')"
   ]
  },
  {
   "cell_type": "markdown",
   "metadata": {},
   "source": [
    "# 1. EDA"
   ]
  },
  {
   "cell_type": "code",
   "execution_count": null,
   "metadata": {},
   "outputs": [
    {
     "data": {
      "text/html": [
       "<div>\n",
       "<style scoped>\n",
       "    .dataframe tbody tr th:only-of-type {\n",
       "        vertical-align: middle;\n",
       "    }\n",
       "\n",
       "    .dataframe tbody tr th {\n",
       "        vertical-align: top;\n",
       "    }\n",
       "\n",
       "    .dataframe thead th {\n",
       "        text-align: right;\n",
       "    }\n",
       "</style>\n",
       "<table border=\"1\" class=\"dataframe\">\n",
       "  <thead>\n",
       "    <tr style=\"text-align: right;\">\n",
       "      <th></th>\n",
       "      <th>Name</th>\n",
       "      <th>Description</th>\n",
       "    </tr>\n",
       "  </thead>\n",
       "  <tbody>\n",
       "    <tr>\n",
       "      <th>0</th>\n",
       "      <td>UID</td>\n",
       "      <td>unique identifier</td>\n",
       "    </tr>\n",
       "    <tr>\n",
       "      <th>1</th>\n",
       "      <td>Application Date</td>\n",
       "      <td>Date of loan application</td>\n",
       "    </tr>\n",
       "    <tr>\n",
       "      <th>2</th>\n",
       "      <td>Amount</td>\n",
       "      <td>Amount requested by applicant</td>\n",
       "    </tr>\n",
       "    <tr>\n",
       "      <th>3</th>\n",
       "      <td>Term</td>\n",
       "      <td>Repayment period requested by applicant</td>\n",
       "    </tr>\n",
       "    <tr>\n",
       "      <th>4</th>\n",
       "      <td>Employment Type</td>\n",
       "      <td>Stated employment</td>\n",
       "    </tr>\n",
       "    <tr>\n",
       "      <th>5</th>\n",
       "      <td>LoanPurpose</td>\n",
       "      <td>Purpose of loan</td>\n",
       "    </tr>\n",
       "    <tr>\n",
       "      <th>6</th>\n",
       "      <td>Success</td>\n",
       "      <td>Applicant successful</td>\n",
       "    </tr>\n",
       "    <tr>\n",
       "      <th>7</th>\n",
       "      <td>ALL_AgeOfOldestAccount</td>\n",
       "      <td>Age of oldest accounts</td>\n",
       "    </tr>\n",
       "    <tr>\n",
       "      <th>8</th>\n",
       "      <td>ALL_AgeOfYoungestAccount</td>\n",
       "      <td>Age of youngest accounts</td>\n",
       "    </tr>\n",
       "    <tr>\n",
       "      <th>9</th>\n",
       "      <td>ALL_Count</td>\n",
       "      <td>No. of accounts</td>\n",
       "    </tr>\n",
       "    <tr>\n",
       "      <th>10</th>\n",
       "      <td>ALL_CountActive</td>\n",
       "      <td>No. of active accounts</td>\n",
       "    </tr>\n",
       "    <tr>\n",
       "      <th>11</th>\n",
       "      <td>ALL_CountClosedLast12Months</td>\n",
       "      <td>Count of accounts closed last 12 months</td>\n",
       "    </tr>\n",
       "    <tr>\n",
       "      <th>12</th>\n",
       "      <td>ALL_CountDefaultAccounts</td>\n",
       "      <td>Count of default accounts</td>\n",
       "    </tr>\n",
       "    <tr>\n",
       "      <th>13</th>\n",
       "      <td>ALL_CountOpenedLast12Months</td>\n",
       "      <td>Count of accounts opened last 12 months</td>\n",
       "    </tr>\n",
       "    <tr>\n",
       "      <th>14</th>\n",
       "      <td>ALL_CountSettled</td>\n",
       "      <td>No. of settled accounts</td>\n",
       "    </tr>\n",
       "    <tr>\n",
       "      <th>15</th>\n",
       "      <td>ALL_MeanAccountAge</td>\n",
       "      <td>Mean account age</td>\n",
       "    </tr>\n",
       "    <tr>\n",
       "      <th>16</th>\n",
       "      <td>ALL_SumCurrentOutstandingBal</td>\n",
       "      <td>Sum of outstanding Bal</td>\n",
       "    </tr>\n",
       "    <tr>\n",
       "      <th>17</th>\n",
       "      <td>ALL_SumCurrentOutstandingBalExcMtg</td>\n",
       "      <td>Sum of outstanding Bal excluding mortgage acco...</td>\n",
       "    </tr>\n",
       "    <tr>\n",
       "      <th>18</th>\n",
       "      <td>ALL_TimeSinceMostRecentDefault</td>\n",
       "      <td>Months since most recent default on accounts</td>\n",
       "    </tr>\n",
       "    <tr>\n",
       "      <th>19</th>\n",
       "      <td>ALL_WorstPaymentStatusActiveAccounts</td>\n",
       "      <td>Current Worst Payment Status</td>\n",
       "    </tr>\n",
       "  </tbody>\n",
       "</table>\n",
       "</div>"
      ],
      "text/plain": [
       "                                    Name  \\\n",
       "0                                    UID   \n",
       "1                       Application Date   \n",
       "2                                 Amount   \n",
       "3                                   Term   \n",
       "4                        Employment Type   \n",
       "5                            LoanPurpose   \n",
       "6                                Success   \n",
       "7                 ALL_AgeOfOldestAccount   \n",
       "8               ALL_AgeOfYoungestAccount   \n",
       "9                              ALL_Count   \n",
       "10                       ALL_CountActive   \n",
       "11           ALL_CountClosedLast12Months   \n",
       "12              ALL_CountDefaultAccounts   \n",
       "13           ALL_CountOpenedLast12Months   \n",
       "14                      ALL_CountSettled   \n",
       "15                    ALL_MeanAccountAge   \n",
       "16          ALL_SumCurrentOutstandingBal   \n",
       "17    ALL_SumCurrentOutstandingBalExcMtg   \n",
       "18        ALL_TimeSinceMostRecentDefault   \n",
       "19  ALL_WorstPaymentStatusActiveAccounts   \n",
       "\n",
       "                                          Description  \n",
       "0                                   unique identifier  \n",
       "1                            Date of loan application  \n",
       "2                       Amount requested by applicant  \n",
       "3             Repayment period requested by applicant  \n",
       "4                                   Stated employment  \n",
       "5                                     Purpose of loan  \n",
       "6                                Applicant successful  \n",
       "7                              Age of oldest accounts  \n",
       "8                            Age of youngest accounts  \n",
       "9                                     No. of accounts  \n",
       "10                             No. of active accounts  \n",
       "11            Count of accounts closed last 12 months  \n",
       "12                          Count of default accounts  \n",
       "13            Count of accounts opened last 12 months  \n",
       "14                            No. of settled accounts  \n",
       "15                                   Mean account age  \n",
       "16                             Sum of outstanding Bal  \n",
       "17  Sum of outstanding Bal excluding mortgage acco...  \n",
       "18       Months since most recent default on accounts  \n",
       "19                       Current Worst Payment Status  "
      ]
     },
     "execution_count": 5,
     "metadata": {},
     "output_type": "execute_result"
    }
   ],
   "source": [
    "data_dict"
   ]
  },
  {
   "cell_type": "code",
   "execution_count": null,
   "metadata": {},
   "outputs": [
    {
     "data": {
      "text/html": [
       "<div>\n",
       "<style scoped>\n",
       "    .dataframe tbody tr th:only-of-type {\n",
       "        vertical-align: middle;\n",
       "    }\n",
       "\n",
       "    .dataframe tbody tr th {\n",
       "        vertical-align: top;\n",
       "    }\n",
       "\n",
       "    .dataframe thead th {\n",
       "        text-align: right;\n",
       "    }\n",
       "</style>\n",
       "<table border=\"1\" class=\"dataframe\">\n",
       "  <thead>\n",
       "    <tr style=\"text-align: right;\">\n",
       "      <th></th>\n",
       "      <th>UID</th>\n",
       "      <th>ApplicationDate</th>\n",
       "      <th>Amount</th>\n",
       "      <th>Term</th>\n",
       "      <th>EmploymentType</th>\n",
       "      <th>LoanPurpose</th>\n",
       "      <th>Success</th>\n",
       "    </tr>\n",
       "  </thead>\n",
       "  <tbody>\n",
       "    <tr>\n",
       "      <th>0</th>\n",
       "      <td>4921736</td>\n",
       "      <td>03/07/2020</td>\n",
       "      <td>2000</td>\n",
       "      <td>60</td>\n",
       "      <td>Employed - full time</td>\n",
       "      <td>Unexpected bills</td>\n",
       "      <td>0</td>\n",
       "    </tr>\n",
       "    <tr>\n",
       "      <th>1</th>\n",
       "      <td>1241981</td>\n",
       "      <td>04/02/2020</td>\n",
       "      <td>3000</td>\n",
       "      <td>60</td>\n",
       "      <td>Employed - full time</td>\n",
       "      <td>Starting new bussniess</td>\n",
       "      <td>0</td>\n",
       "    </tr>\n",
       "    <tr>\n",
       "      <th>2</th>\n",
       "      <td>5751748</td>\n",
       "      <td>02/08/2020</td>\n",
       "      <td>20000</td>\n",
       "      <td>60</td>\n",
       "      <td>Employed - full time</td>\n",
       "      <td>Business capital</td>\n",
       "      <td>0</td>\n",
       "    </tr>\n",
       "    <tr>\n",
       "      <th>3</th>\n",
       "      <td>7163425</td>\n",
       "      <td>23/09/2020</td>\n",
       "      <td>20000</td>\n",
       "      <td>60</td>\n",
       "      <td>Self employed</td>\n",
       "      <td>New business venture</td>\n",
       "      <td>0</td>\n",
       "    </tr>\n",
       "    <tr>\n",
       "      <th>4</th>\n",
       "      <td>227377</td>\n",
       "      <td>01/01/2020</td>\n",
       "      <td>5000</td>\n",
       "      <td>36</td>\n",
       "      <td>Employed - full time</td>\n",
       "      <td>car</td>\n",
       "      <td>0</td>\n",
       "    </tr>\n",
       "  </tbody>\n",
       "</table>\n",
       "</div>"
      ],
      "text/plain": [
       "       UID ApplicationDate  Amount  Term        EmploymentType  \\\n",
       "0  4921736      03/07/2020    2000    60  Employed - full time   \n",
       "1  1241981      04/02/2020    3000    60  Employed - full time   \n",
       "2  5751748      02/08/2020   20000    60  Employed - full time   \n",
       "3  7163425      23/09/2020   20000    60         Self employed   \n",
       "4   227377      01/01/2020    5000    36  Employed - full time   \n",
       "\n",
       "              LoanPurpose  Success  \n",
       "0        Unexpected bills        0  \n",
       "1  Starting new bussniess        0  \n",
       "2        Business capital        0  \n",
       "3    New business venture        0  \n",
       "4                     car        0  "
      ]
     },
     "execution_count": 6,
     "metadata": {},
     "output_type": "execute_result"
    }
   ],
   "source": [
    "samples.head()"
   ]
  },
  {
   "cell_type": "code",
   "execution_count": null,
   "metadata": {},
   "outputs": [
    {
     "name": "stdout",
     "output_type": "stream",
     "text": [
      "<class 'pandas.core.frame.DataFrame'>\n",
      "RangeIndex: 8847 entries, 0 to 8846\n",
      "Data columns (total 7 columns):\n",
      " #   Column           Non-Null Count  Dtype \n",
      "---  ------           --------------  ----- \n",
      " 0   UID              8847 non-null   int64 \n",
      " 1   ApplicationDate  8847 non-null   object\n",
      " 2   Amount           8847 non-null   int64 \n",
      " 3   Term             8847 non-null   int64 \n",
      " 4   EmploymentType   8847 non-null   object\n",
      " 5   LoanPurpose      8847 non-null   object\n",
      " 6   Success          8847 non-null   int64 \n",
      "dtypes: int64(4), object(3)\n",
      "memory usage: 483.9+ KB\n"
     ]
    }
   ],
   "source": [
    "samples.info()"
   ]
  },
  {
   "cell_type": "code",
   "execution_count": null,
   "metadata": {},
   "outputs": [
    {
     "data": {
      "text/plain": [
       "8847"
      ]
     },
     "execution_count": 8,
     "metadata": {},
     "output_type": "execute_result"
    }
   ],
   "source": [
    "samples['UID'].nunique()"
   ]
  },
  {
   "cell_type": "code",
   "execution_count": null,
   "metadata": {},
   "outputs": [
    {
     "name": "stdout",
     "output_type": "stream",
     "text": [
      "<class 'pandas.core.frame.DataFrame'>\n",
      "RangeIndex: 8847 entries, 0 to 8846\n",
      "Data columns (total 14 columns):\n",
      " #   Column                                Non-Null Count  Dtype  \n",
      "---  ------                                --------------  -----  \n",
      " 0   UID                                   8847 non-null   int64  \n",
      " 1   ALL_AgeOfOldestAccount                8847 non-null   int64  \n",
      " 2   ALL_AgeOfYoungestAccount              8847 non-null   int64  \n",
      " 3   ALL_Count                             8847 non-null   int64  \n",
      " 4   ALL_CountActive                       8847 non-null   int64  \n",
      " 5   ALL_CountClosedLast12Months           8847 non-null   int64  \n",
      " 6   ALL_CountDefaultAccounts              8847 non-null   int64  \n",
      " 7   ALL_CountOpenedLast12Months           8847 non-null   int64  \n",
      " 8   ALL_CountSettled                      8847 non-null   int64  \n",
      " 9   ALL_MeanAccountAge                    8847 non-null   float64\n",
      " 10  ALL_SumCurrentOutstandingBal          8847 non-null   int64  \n",
      " 11  ALL_SumCurrentOutstandingBalExcMtg    8847 non-null   int64  \n",
      " 12  ALL_TimeSinceMostRecentDefault        8847 non-null   int64  \n",
      " 13  ALL_WorstPaymentStatusActiveAccounts  8847 non-null   int64  \n",
      "dtypes: float64(1), int64(13)\n",
      "memory usage: 967.8 KB\n"
     ]
    }
   ],
   "source": [
    "features.info()"
   ]
  },
  {
   "cell_type": "code",
   "execution_count": null,
   "metadata": {},
   "outputs": [
    {
     "name": "stdout",
     "output_type": "stream",
     "text": [
      "1\n"
     ]
    }
   ],
   "source": [
    "# since this column has only one unique value across all rows.\n",
    "# and it doesn’t provide any useful information for modeling, as it has no variability.\n",
    "# Dropping it can simplify the dataset without losing any predictive power.\n",
    "print(features['ALL_TimeSinceMostRecentDefault'].nunique())\n",
    "features = features.drop(columns=['ALL_TimeSinceMostRecentDefault'])"
   ]
  },
  {
   "cell_type": "code",
   "execution_count": null,
   "metadata": {},
   "outputs": [
    {
     "data": {
      "text/html": [
       "<div>\n",
       "<style scoped>\n",
       "    .dataframe tbody tr th:only-of-type {\n",
       "        vertical-align: middle;\n",
       "    }\n",
       "\n",
       "    .dataframe tbody tr th {\n",
       "        vertical-align: top;\n",
       "    }\n",
       "\n",
       "    .dataframe thead th {\n",
       "        text-align: right;\n",
       "    }\n",
       "</style>\n",
       "<table border=\"1\" class=\"dataframe\">\n",
       "  <thead>\n",
       "    <tr style=\"text-align: right;\">\n",
       "      <th></th>\n",
       "      <th>UID</th>\n",
       "      <th>ALL_AgeOfOldestAccount</th>\n",
       "      <th>ALL_AgeOfYoungestAccount</th>\n",
       "      <th>ALL_Count</th>\n",
       "      <th>ALL_CountActive</th>\n",
       "      <th>ALL_CountClosedLast12Months</th>\n",
       "      <th>ALL_CountDefaultAccounts</th>\n",
       "      <th>ALL_CountOpenedLast12Months</th>\n",
       "      <th>ALL_CountSettled</th>\n",
       "      <th>ALL_MeanAccountAge</th>\n",
       "      <th>ALL_SumCurrentOutstandingBal</th>\n",
       "      <th>ALL_SumCurrentOutstandingBalExcMtg</th>\n",
       "      <th>ALL_WorstPaymentStatusActiveAccounts</th>\n",
       "    </tr>\n",
       "  </thead>\n",
       "  <tbody>\n",
       "    <tr>\n",
       "      <th>count</th>\n",
       "      <td>8.847000e+03</td>\n",
       "      <td>8847.000000</td>\n",
       "      <td>8847.000000</td>\n",
       "      <td>8847.000000</td>\n",
       "      <td>8847.000000</td>\n",
       "      <td>8847.000000</td>\n",
       "      <td>8847.000000</td>\n",
       "      <td>8847.000000</td>\n",
       "      <td>8847.000000</td>\n",
       "      <td>8847.000000</td>\n",
       "      <td>8.847000e+03</td>\n",
       "      <td>8847.000000</td>\n",
       "      <td>8847.000000</td>\n",
       "    </tr>\n",
       "    <tr>\n",
       "      <th>mean</th>\n",
       "      <td>4.753101e+06</td>\n",
       "      <td>162.694021</td>\n",
       "      <td>8.587431</td>\n",
       "      <td>17.515316</td>\n",
       "      <td>9.258506</td>\n",
       "      <td>1.589691</td>\n",
       "      <td>1.380355</td>\n",
       "      <td>2.453487</td>\n",
       "      <td>8.231491</td>\n",
       "      <td>57.285159</td>\n",
       "      <td>5.416258e+04</td>\n",
       "      <td>12858.636148</td>\n",
       "      <td>2.057647</td>\n",
       "    </tr>\n",
       "    <tr>\n",
       "      <th>std</th>\n",
       "      <td>2.766232e+06</td>\n",
       "      <td>94.569878</td>\n",
       "      <td>13.081866</td>\n",
       "      <td>13.900171</td>\n",
       "      <td>4.896900</td>\n",
       "      <td>2.611921</td>\n",
       "      <td>2.749450</td>\n",
       "      <td>2.964837</td>\n",
       "      <td>11.419963</td>\n",
       "      <td>29.132180</td>\n",
       "      <td>1.074432e+05</td>\n",
       "      <td>17756.568825</td>\n",
       "      <td>3.139938</td>\n",
       "    </tr>\n",
       "    <tr>\n",
       "      <th>min</th>\n",
       "      <td>2.160090e+05</td>\n",
       "      <td>-1.000000</td>\n",
       "      <td>-1.000000</td>\n",
       "      <td>0.000000</td>\n",
       "      <td>-1.000000</td>\n",
       "      <td>-1.000000</td>\n",
       "      <td>-1.000000</td>\n",
       "      <td>-1.000000</td>\n",
       "      <td>-1.000000</td>\n",
       "      <td>-1.000000</td>\n",
       "      <td>-1.000000e+00</td>\n",
       "      <td>-1.000000</td>\n",
       "      <td>-1.000000</td>\n",
       "    </tr>\n",
       "    <tr>\n",
       "      <th>25%</th>\n",
       "      <td>2.376933e+06</td>\n",
       "      <td>100.000000</td>\n",
       "      <td>2.000000</td>\n",
       "      <td>9.000000</td>\n",
       "      <td>6.000000</td>\n",
       "      <td>0.000000</td>\n",
       "      <td>0.000000</td>\n",
       "      <td>1.000000</td>\n",
       "      <td>2.000000</td>\n",
       "      <td>38.770000</td>\n",
       "      <td>3.396000e+03</td>\n",
       "      <td>2438.000000</td>\n",
       "      <td>0.000000</td>\n",
       "    </tr>\n",
       "    <tr>\n",
       "      <th>50%</th>\n",
       "      <td>4.463541e+06</td>\n",
       "      <td>151.000000</td>\n",
       "      <td>5.000000</td>\n",
       "      <td>15.000000</td>\n",
       "      <td>9.000000</td>\n",
       "      <td>1.000000</td>\n",
       "      <td>0.000000</td>\n",
       "      <td>2.000000</td>\n",
       "      <td>5.000000</td>\n",
       "      <td>53.120000</td>\n",
       "      <td>1.267000e+04</td>\n",
       "      <td>8336.000000</td>\n",
       "      <td>0.000000</td>\n",
       "    </tr>\n",
       "    <tr>\n",
       "      <th>75%</th>\n",
       "      <td>7.194733e+06</td>\n",
       "      <td>212.000000</td>\n",
       "      <td>10.000000</td>\n",
       "      <td>22.000000</td>\n",
       "      <td>12.000000</td>\n",
       "      <td>2.000000</td>\n",
       "      <td>2.000000</td>\n",
       "      <td>3.000000</td>\n",
       "      <td>10.000000</td>\n",
       "      <td>71.530000</td>\n",
       "      <td>6.171250e+04</td>\n",
       "      <td>17990.500000</td>\n",
       "      <td>7.000000</td>\n",
       "    </tr>\n",
       "    <tr>\n",
       "      <th>max</th>\n",
       "      <td>9.684478e+06</td>\n",
       "      <td>999.000000</td>\n",
       "      <td>258.000000</td>\n",
       "      <td>233.000000</td>\n",
       "      <td>43.000000</td>\n",
       "      <td>60.000000</td>\n",
       "      <td>23.000000</td>\n",
       "      <td>62.000000</td>\n",
       "      <td>215.000000</td>\n",
       "      <td>304.000000</td>\n",
       "      <td>4.004808e+06</td>\n",
       "      <td>581415.000000</td>\n",
       "      <td>7.000000</td>\n",
       "    </tr>\n",
       "  </tbody>\n",
       "</table>\n",
       "</div>"
      ],
      "text/plain": [
       "                UID  ALL_AgeOfOldestAccount  ALL_AgeOfYoungestAccount  \\\n",
       "count  8.847000e+03             8847.000000               8847.000000   \n",
       "mean   4.753101e+06              162.694021                  8.587431   \n",
       "std    2.766232e+06               94.569878                 13.081866   \n",
       "min    2.160090e+05               -1.000000                 -1.000000   \n",
       "25%    2.376933e+06              100.000000                  2.000000   \n",
       "50%    4.463541e+06              151.000000                  5.000000   \n",
       "75%    7.194733e+06              212.000000                 10.000000   \n",
       "max    9.684478e+06              999.000000                258.000000   \n",
       "\n",
       "         ALL_Count  ALL_CountActive  ALL_CountClosedLast12Months  \\\n",
       "count  8847.000000      8847.000000                  8847.000000   \n",
       "mean     17.515316         9.258506                     1.589691   \n",
       "std      13.900171         4.896900                     2.611921   \n",
       "min       0.000000        -1.000000                    -1.000000   \n",
       "25%       9.000000         6.000000                     0.000000   \n",
       "50%      15.000000         9.000000                     1.000000   \n",
       "75%      22.000000        12.000000                     2.000000   \n",
       "max     233.000000        43.000000                    60.000000   \n",
       "\n",
       "       ALL_CountDefaultAccounts  ALL_CountOpenedLast12Months  \\\n",
       "count               8847.000000                  8847.000000   \n",
       "mean                   1.380355                     2.453487   \n",
       "std                    2.749450                     2.964837   \n",
       "min                   -1.000000                    -1.000000   \n",
       "25%                    0.000000                     1.000000   \n",
       "50%                    0.000000                     2.000000   \n",
       "75%                    2.000000                     3.000000   \n",
       "max                   23.000000                    62.000000   \n",
       "\n",
       "       ALL_CountSettled  ALL_MeanAccountAge  ALL_SumCurrentOutstandingBal  \\\n",
       "count       8847.000000         8847.000000                  8.847000e+03   \n",
       "mean           8.231491           57.285159                  5.416258e+04   \n",
       "std           11.419963           29.132180                  1.074432e+05   \n",
       "min           -1.000000           -1.000000                 -1.000000e+00   \n",
       "25%            2.000000           38.770000                  3.396000e+03   \n",
       "50%            5.000000           53.120000                  1.267000e+04   \n",
       "75%           10.000000           71.530000                  6.171250e+04   \n",
       "max          215.000000          304.000000                  4.004808e+06   \n",
       "\n",
       "       ALL_SumCurrentOutstandingBalExcMtg  \\\n",
       "count                         8847.000000   \n",
       "mean                         12858.636148   \n",
       "std                          17756.568825   \n",
       "min                             -1.000000   \n",
       "25%                           2438.000000   \n",
       "50%                           8336.000000   \n",
       "75%                          17990.500000   \n",
       "max                         581415.000000   \n",
       "\n",
       "       ALL_WorstPaymentStatusActiveAccounts  \n",
       "count                           8847.000000  \n",
       "mean                               2.057647  \n",
       "std                                3.139938  \n",
       "min                               -1.000000  \n",
       "25%                                0.000000  \n",
       "50%                                0.000000  \n",
       "75%                                7.000000  \n",
       "max                                7.000000  "
      ]
     },
     "execution_count": 11,
     "metadata": {},
     "output_type": "execute_result"
    }
   ],
   "source": [
    "features.describe()"
   ]
  },
  {
   "cell_type": "code",
   "execution_count": null,
   "metadata": {},
   "outputs": [
    {
     "data": {
      "text/plain": [
       "9"
      ]
     },
     "execution_count": 12,
     "metadata": {},
     "output_type": "execute_result"
    }
   ],
   "source": [
    "features['ALL_WorstPaymentStatusActiveAccounts'].nunique()"
   ]
  },
  {
   "cell_type": "markdown",
   "metadata": {},
   "source": [
    "## 1-1. Generate Full_df merging application_samples & features"
   ]
  },
  {
   "cell_type": "code",
   "execution_count": null,
   "metadata": {},
   "outputs": [],
   "source": [
    "full_df = pd.merge(samples, features, on = 'UID')"
   ]
  },
  {
   "cell_type": "code",
   "execution_count": null,
   "metadata": {},
   "outputs": [
    {
     "data": {
      "text/html": [
       "<div>\n",
       "<style scoped>\n",
       "    .dataframe tbody tr th:only-of-type {\n",
       "        vertical-align: middle;\n",
       "    }\n",
       "\n",
       "    .dataframe tbody tr th {\n",
       "        vertical-align: top;\n",
       "    }\n",
       "\n",
       "    .dataframe thead th {\n",
       "        text-align: right;\n",
       "    }\n",
       "</style>\n",
       "<table border=\"1\" class=\"dataframe\">\n",
       "  <thead>\n",
       "    <tr style=\"text-align: right;\">\n",
       "      <th></th>\n",
       "      <th>UID</th>\n",
       "      <th>ApplicationDate</th>\n",
       "      <th>Amount</th>\n",
       "      <th>Term</th>\n",
       "      <th>EmploymentType</th>\n",
       "      <th>LoanPurpose</th>\n",
       "      <th>Success</th>\n",
       "      <th>ALL_AgeOfOldestAccount</th>\n",
       "      <th>ALL_AgeOfYoungestAccount</th>\n",
       "      <th>ALL_Count</th>\n",
       "      <th>ALL_CountActive</th>\n",
       "      <th>ALL_CountClosedLast12Months</th>\n",
       "      <th>ALL_CountDefaultAccounts</th>\n",
       "      <th>ALL_CountOpenedLast12Months</th>\n",
       "      <th>ALL_CountSettled</th>\n",
       "      <th>ALL_MeanAccountAge</th>\n",
       "      <th>ALL_SumCurrentOutstandingBal</th>\n",
       "      <th>ALL_SumCurrentOutstandingBalExcMtg</th>\n",
       "      <th>ALL_WorstPaymentStatusActiveAccounts</th>\n",
       "    </tr>\n",
       "  </thead>\n",
       "  <tbody>\n",
       "    <tr>\n",
       "      <th>0</th>\n",
       "      <td>4921736</td>\n",
       "      <td>03/07/2020</td>\n",
       "      <td>2000</td>\n",
       "      <td>60</td>\n",
       "      <td>Employed - full time</td>\n",
       "      <td>Unexpected bills</td>\n",
       "      <td>0</td>\n",
       "      <td>162</td>\n",
       "      <td>17</td>\n",
       "      <td>18</td>\n",
       "      <td>12</td>\n",
       "      <td>0</td>\n",
       "      <td>0</td>\n",
       "      <td>0</td>\n",
       "      <td>6</td>\n",
       "      <td>70.94</td>\n",
       "      <td>68555</td>\n",
       "      <td>15019</td>\n",
       "      <td>0</td>\n",
       "    </tr>\n",
       "    <tr>\n",
       "      <th>1</th>\n",
       "      <td>1241981</td>\n",
       "      <td>04/02/2020</td>\n",
       "      <td>3000</td>\n",
       "      <td>60</td>\n",
       "      <td>Employed - full time</td>\n",
       "      <td>Starting new bussniess</td>\n",
       "      <td>0</td>\n",
       "      <td>266</td>\n",
       "      <td>30</td>\n",
       "      <td>14</td>\n",
       "      <td>10</td>\n",
       "      <td>0</td>\n",
       "      <td>4</td>\n",
       "      <td>0</td>\n",
       "      <td>4</td>\n",
       "      <td>104.79</td>\n",
       "      <td>2209</td>\n",
       "      <td>2209</td>\n",
       "      <td>7</td>\n",
       "    </tr>\n",
       "    <tr>\n",
       "      <th>2</th>\n",
       "      <td>5751748</td>\n",
       "      <td>02/08/2020</td>\n",
       "      <td>20000</td>\n",
       "      <td>60</td>\n",
       "      <td>Employed - full time</td>\n",
       "      <td>Business capital</td>\n",
       "      <td>0</td>\n",
       "      <td>90</td>\n",
       "      <td>52</td>\n",
       "      <td>4</td>\n",
       "      <td>2</td>\n",
       "      <td>0</td>\n",
       "      <td>1</td>\n",
       "      <td>0</td>\n",
       "      <td>2</td>\n",
       "      <td>68.25</td>\n",
       "      <td>5108</td>\n",
       "      <td>5108</td>\n",
       "      <td>7</td>\n",
       "    </tr>\n",
       "    <tr>\n",
       "      <th>3</th>\n",
       "      <td>7163425</td>\n",
       "      <td>23/09/2020</td>\n",
       "      <td>20000</td>\n",
       "      <td>60</td>\n",
       "      <td>Self employed</td>\n",
       "      <td>New business venture</td>\n",
       "      <td>0</td>\n",
       "      <td>163</td>\n",
       "      <td>19</td>\n",
       "      <td>14</td>\n",
       "      <td>6</td>\n",
       "      <td>1</td>\n",
       "      <td>1</td>\n",
       "      <td>0</td>\n",
       "      <td>8</td>\n",
       "      <td>67.50</td>\n",
       "      <td>25738</td>\n",
       "      <td>25738</td>\n",
       "      <td>0</td>\n",
       "    </tr>\n",
       "    <tr>\n",
       "      <th>4</th>\n",
       "      <td>227377</td>\n",
       "      <td>01/01/2020</td>\n",
       "      <td>5000</td>\n",
       "      <td>36</td>\n",
       "      <td>Employed - full time</td>\n",
       "      <td>car</td>\n",
       "      <td>0</td>\n",
       "      <td>129</td>\n",
       "      <td>2</td>\n",
       "      <td>38</td>\n",
       "      <td>19</td>\n",
       "      <td>4</td>\n",
       "      <td>9</td>\n",
       "      <td>8</td>\n",
       "      <td>19</td>\n",
       "      <td>56.45</td>\n",
       "      <td>5801</td>\n",
       "      <td>5801</td>\n",
       "      <td>7</td>\n",
       "    </tr>\n",
       "  </tbody>\n",
       "</table>\n",
       "</div>"
      ],
      "text/plain": [
       "       UID ApplicationDate  Amount  Term        EmploymentType  \\\n",
       "0  4921736      03/07/2020    2000    60  Employed - full time   \n",
       "1  1241981      04/02/2020    3000    60  Employed - full time   \n",
       "2  5751748      02/08/2020   20000    60  Employed - full time   \n",
       "3  7163425      23/09/2020   20000    60         Self employed   \n",
       "4   227377      01/01/2020    5000    36  Employed - full time   \n",
       "\n",
       "              LoanPurpose  Success  ALL_AgeOfOldestAccount  \\\n",
       "0        Unexpected bills        0                     162   \n",
       "1  Starting new bussniess        0                     266   \n",
       "2        Business capital        0                      90   \n",
       "3    New business venture        0                     163   \n",
       "4                     car        0                     129   \n",
       "\n",
       "   ALL_AgeOfYoungestAccount  ALL_Count  ALL_CountActive  \\\n",
       "0                        17         18               12   \n",
       "1                        30         14               10   \n",
       "2                        52          4                2   \n",
       "3                        19         14                6   \n",
       "4                         2         38               19   \n",
       "\n",
       "   ALL_CountClosedLast12Months  ALL_CountDefaultAccounts  \\\n",
       "0                            0                         0   \n",
       "1                            0                         4   \n",
       "2                            0                         1   \n",
       "3                            1                         1   \n",
       "4                            4                         9   \n",
       "\n",
       "   ALL_CountOpenedLast12Months  ALL_CountSettled  ALL_MeanAccountAge  \\\n",
       "0                            0                 6               70.94   \n",
       "1                            0                 4              104.79   \n",
       "2                            0                 2               68.25   \n",
       "3                            0                 8               67.50   \n",
       "4                            8                19               56.45   \n",
       "\n",
       "   ALL_SumCurrentOutstandingBal  ALL_SumCurrentOutstandingBalExcMtg  \\\n",
       "0                         68555                               15019   \n",
       "1                          2209                                2209   \n",
       "2                          5108                                5108   \n",
       "3                         25738                               25738   \n",
       "4                          5801                                5801   \n",
       "\n",
       "   ALL_WorstPaymentStatusActiveAccounts  \n",
       "0                                     0  \n",
       "1                                     7  \n",
       "2                                     7  \n",
       "3                                     0  \n",
       "4                                     7  "
      ]
     },
     "execution_count": 14,
     "metadata": {},
     "output_type": "execute_result"
    }
   ],
   "source": [
    "full_df.head()"
   ]
  },
  {
   "cell_type": "code",
   "execution_count": null,
   "metadata": {},
   "outputs": [
    {
     "name": "stdout",
     "output_type": "stream",
     "text": [
      "<class 'pandas.core.frame.DataFrame'>\n",
      "Int64Index: 8847 entries, 0 to 8846\n",
      "Data columns (total 19 columns):\n",
      " #   Column                                Non-Null Count  Dtype  \n",
      "---  ------                                --------------  -----  \n",
      " 0   UID                                   8847 non-null   int64  \n",
      " 1   ApplicationDate                       8847 non-null   object \n",
      " 2   Amount                                8847 non-null   int64  \n",
      " 3   Term                                  8847 non-null   int64  \n",
      " 4   EmploymentType                        8847 non-null   object \n",
      " 5   LoanPurpose                           8847 non-null   object \n",
      " 6   Success                               8847 non-null   int64  \n",
      " 7   ALL_AgeOfOldestAccount                8847 non-null   int64  \n",
      " 8   ALL_AgeOfYoungestAccount              8847 non-null   int64  \n",
      " 9   ALL_Count                             8847 non-null   int64  \n",
      " 10  ALL_CountActive                       8847 non-null   int64  \n",
      " 11  ALL_CountClosedLast12Months           8847 non-null   int64  \n",
      " 12  ALL_CountDefaultAccounts              8847 non-null   int64  \n",
      " 13  ALL_CountOpenedLast12Months           8847 non-null   int64  \n",
      " 14  ALL_CountSettled                      8847 non-null   int64  \n",
      " 15  ALL_MeanAccountAge                    8847 non-null   float64\n",
      " 16  ALL_SumCurrentOutstandingBal          8847 non-null   int64  \n",
      " 17  ALL_SumCurrentOutstandingBalExcMtg    8847 non-null   int64  \n",
      " 18  ALL_WorstPaymentStatusActiveAccounts  8847 non-null   int64  \n",
      "dtypes: float64(1), int64(15), object(3)\n",
      "memory usage: 1.3+ MB\n"
     ]
    }
   ],
   "source": [
    "full_df.info()"
   ]
  },
  {
   "cell_type": "code",
   "execution_count": null,
   "metadata": {},
   "outputs": [
    {
     "data": {
      "text/plain": [
       "UID                                     0\n",
       "ApplicationDate                         0\n",
       "Amount                                  0\n",
       "Term                                    0\n",
       "EmploymentType                          0\n",
       "LoanPurpose                             0\n",
       "Success                                 0\n",
       "ALL_AgeOfOldestAccount                  0\n",
       "ALL_AgeOfYoungestAccount                0\n",
       "ALL_Count                               0\n",
       "ALL_CountActive                         0\n",
       "ALL_CountClosedLast12Months             0\n",
       "ALL_CountDefaultAccounts                0\n",
       "ALL_CountOpenedLast12Months             0\n",
       "ALL_CountSettled                        0\n",
       "ALL_MeanAccountAge                      0\n",
       "ALL_SumCurrentOutstandingBal            0\n",
       "ALL_SumCurrentOutstandingBalExcMtg      0\n",
       "ALL_WorstPaymentStatusActiveAccounts    0\n",
       "dtype: int64"
      ]
     },
     "execution_count": 16,
     "metadata": {},
     "output_type": "execute_result"
    }
   ],
   "source": [
    "# There's no NaN value.\n",
    "full_df.isna().sum()"
   ]
  },
  {
   "cell_type": "code",
   "execution_count": null,
   "metadata": {},
   "outputs": [
    {
     "data": {
      "text/html": [
       "<div>\n",
       "<style scoped>\n",
       "    .dataframe tbody tr th:only-of-type {\n",
       "        vertical-align: middle;\n",
       "    }\n",
       "\n",
       "    .dataframe tbody tr th {\n",
       "        vertical-align: top;\n",
       "    }\n",
       "\n",
       "    .dataframe thead th {\n",
       "        text-align: right;\n",
       "    }\n",
       "</style>\n",
       "<table border=\"1\" class=\"dataframe\">\n",
       "  <thead>\n",
       "    <tr style=\"text-align: right;\">\n",
       "      <th></th>\n",
       "      <th>UID</th>\n",
       "      <th>ApplicationDate</th>\n",
       "      <th>Amount</th>\n",
       "      <th>Term</th>\n",
       "      <th>EmploymentType</th>\n",
       "      <th>LoanPurpose</th>\n",
       "      <th>Success</th>\n",
       "      <th>ALL_AgeOfOldestAccount</th>\n",
       "      <th>ALL_AgeOfYoungestAccount</th>\n",
       "      <th>ALL_Count</th>\n",
       "      <th>ALL_CountActive</th>\n",
       "      <th>ALL_CountClosedLast12Months</th>\n",
       "      <th>ALL_CountDefaultAccounts</th>\n",
       "      <th>ALL_CountOpenedLast12Months</th>\n",
       "      <th>ALL_CountSettled</th>\n",
       "      <th>ALL_MeanAccountAge</th>\n",
       "      <th>ALL_SumCurrentOutstandingBal</th>\n",
       "      <th>ALL_SumCurrentOutstandingBalExcMtg</th>\n",
       "      <th>ALL_WorstPaymentStatusActiveAccounts</th>\n",
       "    </tr>\n",
       "  </thead>\n",
       "  <tbody>\n",
       "    <tr>\n",
       "      <th>0</th>\n",
       "      <td>4921736</td>\n",
       "      <td>03/07/2020</td>\n",
       "      <td>2000</td>\n",
       "      <td>60</td>\n",
       "      <td>Employed - full time</td>\n",
       "      <td>Unexpected bills</td>\n",
       "      <td>0</td>\n",
       "      <td>162</td>\n",
       "      <td>17</td>\n",
       "      <td>18</td>\n",
       "      <td>12</td>\n",
       "      <td>0</td>\n",
       "      <td>0</td>\n",
       "      <td>0</td>\n",
       "      <td>6</td>\n",
       "      <td>70.94</td>\n",
       "      <td>68555</td>\n",
       "      <td>15019</td>\n",
       "      <td>0</td>\n",
       "    </tr>\n",
       "    <tr>\n",
       "      <th>1</th>\n",
       "      <td>1241981</td>\n",
       "      <td>04/02/2020</td>\n",
       "      <td>3000</td>\n",
       "      <td>60</td>\n",
       "      <td>Employed - full time</td>\n",
       "      <td>Starting new bussniess</td>\n",
       "      <td>0</td>\n",
       "      <td>266</td>\n",
       "      <td>30</td>\n",
       "      <td>14</td>\n",
       "      <td>10</td>\n",
       "      <td>0</td>\n",
       "      <td>4</td>\n",
       "      <td>0</td>\n",
       "      <td>4</td>\n",
       "      <td>104.79</td>\n",
       "      <td>2209</td>\n",
       "      <td>2209</td>\n",
       "      <td>7</td>\n",
       "    </tr>\n",
       "    <tr>\n",
       "      <th>2</th>\n",
       "      <td>5751748</td>\n",
       "      <td>02/08/2020</td>\n",
       "      <td>20000</td>\n",
       "      <td>60</td>\n",
       "      <td>Employed - full time</td>\n",
       "      <td>Business capital</td>\n",
       "      <td>0</td>\n",
       "      <td>90</td>\n",
       "      <td>52</td>\n",
       "      <td>4</td>\n",
       "      <td>2</td>\n",
       "      <td>0</td>\n",
       "      <td>1</td>\n",
       "      <td>0</td>\n",
       "      <td>2</td>\n",
       "      <td>68.25</td>\n",
       "      <td>5108</td>\n",
       "      <td>5108</td>\n",
       "      <td>7</td>\n",
       "    </tr>\n",
       "    <tr>\n",
       "      <th>3</th>\n",
       "      <td>7163425</td>\n",
       "      <td>23/09/2020</td>\n",
       "      <td>20000</td>\n",
       "      <td>60</td>\n",
       "      <td>Self employed</td>\n",
       "      <td>New business venture</td>\n",
       "      <td>0</td>\n",
       "      <td>163</td>\n",
       "      <td>19</td>\n",
       "      <td>14</td>\n",
       "      <td>6</td>\n",
       "      <td>1</td>\n",
       "      <td>1</td>\n",
       "      <td>0</td>\n",
       "      <td>8</td>\n",
       "      <td>67.50</td>\n",
       "      <td>25738</td>\n",
       "      <td>25738</td>\n",
       "      <td>0</td>\n",
       "    </tr>\n",
       "    <tr>\n",
       "      <th>4</th>\n",
       "      <td>227377</td>\n",
       "      <td>01/01/2020</td>\n",
       "      <td>5000</td>\n",
       "      <td>36</td>\n",
       "      <td>Employed - full time</td>\n",
       "      <td>car</td>\n",
       "      <td>0</td>\n",
       "      <td>129</td>\n",
       "      <td>2</td>\n",
       "      <td>38</td>\n",
       "      <td>19</td>\n",
       "      <td>4</td>\n",
       "      <td>9</td>\n",
       "      <td>8</td>\n",
       "      <td>19</td>\n",
       "      <td>56.45</td>\n",
       "      <td>5801</td>\n",
       "      <td>5801</td>\n",
       "      <td>7</td>\n",
       "    </tr>\n",
       "  </tbody>\n",
       "</table>\n",
       "</div>"
      ],
      "text/plain": [
       "       UID ApplicationDate  Amount  Term        EmploymentType  \\\n",
       "0  4921736      03/07/2020    2000    60  Employed - full time   \n",
       "1  1241981      04/02/2020    3000    60  Employed - full time   \n",
       "2  5751748      02/08/2020   20000    60  Employed - full time   \n",
       "3  7163425      23/09/2020   20000    60         Self employed   \n",
       "4   227377      01/01/2020    5000    36  Employed - full time   \n",
       "\n",
       "              LoanPurpose  Success  ALL_AgeOfOldestAccount  \\\n",
       "0        Unexpected bills        0                     162   \n",
       "1  Starting new bussniess        0                     266   \n",
       "2        Business capital        0                      90   \n",
       "3    New business venture        0                     163   \n",
       "4                     car        0                     129   \n",
       "\n",
       "   ALL_AgeOfYoungestAccount  ALL_Count  ALL_CountActive  \\\n",
       "0                        17         18               12   \n",
       "1                        30         14               10   \n",
       "2                        52          4                2   \n",
       "3                        19         14                6   \n",
       "4                         2         38               19   \n",
       "\n",
       "   ALL_CountClosedLast12Months  ALL_CountDefaultAccounts  \\\n",
       "0                            0                         0   \n",
       "1                            0                         4   \n",
       "2                            0                         1   \n",
       "3                            1                         1   \n",
       "4                            4                         9   \n",
       "\n",
       "   ALL_CountOpenedLast12Months  ALL_CountSettled  ALL_MeanAccountAge  \\\n",
       "0                            0                 6               70.94   \n",
       "1                            0                 4              104.79   \n",
       "2                            0                 2               68.25   \n",
       "3                            0                 8               67.50   \n",
       "4                            8                19               56.45   \n",
       "\n",
       "   ALL_SumCurrentOutstandingBal  ALL_SumCurrentOutstandingBalExcMtg  \\\n",
       "0                         68555                               15019   \n",
       "1                          2209                                2209   \n",
       "2                          5108                                5108   \n",
       "3                         25738                               25738   \n",
       "4                          5801                                5801   \n",
       "\n",
       "   ALL_WorstPaymentStatusActiveAccounts  \n",
       "0                                     0  \n",
       "1                                     7  \n",
       "2                                     7  \n",
       "3                                     0  \n",
       "4                                     7  "
      ]
     },
     "execution_count": 17,
     "metadata": {},
     "output_type": "execute_result"
    }
   ],
   "source": [
    "full_df.head()"
   ]
  },
  {
   "cell_type": "code",
   "execution_count": null,
   "metadata": {},
   "outputs": [],
   "source": []
  },
  {
   "cell_type": "markdown",
   "metadata": {},
   "source": [
    "# 2. Preprocessing - Feature Engineering"
   ]
  },
  {
   "cell_type": "markdown",
   "metadata": {},
   "source": [
    "## Preprocessing Object type\n",
    "ApplicationDate, EmploymentType and LoanPurpose need to be preprocessed since they are the object types which is inappropriate type when we use them as an input of machine learning.\n",
    "- 1 'ApplicationDate' : Transform into datetime format, extract year, month, and day as separate columns, extract the day of the week and calculate the number of days since the application date to use all of them as features.\n",
    "- 2 'EmploymentType' : Use one-hot encoding which is a basic encoding technique when we have a few unique values in categories\n",
    "- 3 'LoanPurpose': Has more than 2,000 different unique values.\n"
   ]
  },
  {
   "cell_type": "markdown",
   "metadata": {},
   "source": [
    "### 1. samples['ApplicationDate]"
   ]
  },
  {
   "cell_type": "code",
   "execution_count": null,
   "metadata": {},
   "outputs": [],
   "source": [
    "# Assuming `ApplicationDate` is in the 'DD/MM/YYYY' format\n",
    "full_df['ApplicationDate'] = pd.to_datetime(full_df['ApplicationDate'], format='%d/%m/%Y')"
   ]
  },
  {
   "cell_type": "code",
   "execution_count": null,
   "metadata": {},
   "outputs": [],
   "source": [
    "# Extracting year, month, and day as separate columns\n",
    "# we don't need year since it's just all 2020\n",
    "# samples['ApplicationYear'] = samples['ApplicationDate'].dt.year\n",
    "full_df['ApplicationMonth'] = full_df['ApplicationDate'].dt.month\n",
    "full_df['ApplicationDay'] = full_df['ApplicationDate'].dt.day\n",
    "\n",
    "# Extracting the day of the week (0=Monday, 6=Sunday)\n",
    "full_df['ApplicationDayOfWeek'] = full_df['ApplicationDate'].dt.dayofweek\n",
    "\n",
    "# Calculate the number of days since the application date\n",
    "current_date = datetime.now()\n",
    "full_df['DaysSinceApplication'] = (current_date - full_df['ApplicationDate']).dt.days"
   ]
  },
  {
   "cell_type": "markdown",
   "metadata": {},
   "source": [
    "Why Use Sine and Cosine Encoding?\n",
    "\n",
    "For cyclical features:\n",
    "\n",
    "\t•\tOne-hot encoding might not effectively capture the relationship between the “start” and “end” points. For instance, January (1) and December (12) are close in the cycle, but one-hot encoding would treat them as entirely separate."
   ]
  },
  {
   "cell_type": "code",
   "execution_count": null,
   "metadata": {},
   "outputs": [],
   "source": [
    "# Sine and cosine encoding for ApplicationMonth (1 to 12)\n",
    "full_df['ApplicationMonth_sin'] = np.sin(2 * np.pi * full_df['ApplicationMonth'] / 12)\n",
    "full_df['ApplicationMonth_cos'] = np.cos(2 * np.pi * full_df['ApplicationMonth'] / 12)\n",
    "\n",
    "# Sine and cosine encoding for ApplicationDay (1 to 31)\n",
    "full_df['ApplicationDay_sin'] = np.sin(2 * np.pi * full_df['ApplicationDay'] / 31)\n",
    "full_df['ApplicationDay_cos'] = np.cos(2 * np.pi * full_df['ApplicationDay'] / 31)\n",
    "\n",
    "# Sine and cosine encoding for ApplicationDayOfWeek (1 to 7)\n",
    "full_df['ApplicationDayOfWeek_sin'] = np.sin(2 * np.pi * full_df['ApplicationDayOfWeek'] / 7)\n",
    "full_df['ApplicationDayOfWeek_cos'] = np.cos(2 * np.pi * full_df['ApplicationDayOfWeek'] / 7)"
   ]
  },
  {
   "cell_type": "code",
   "execution_count": null,
   "metadata": {},
   "outputs": [],
   "source": [
    "full_df.drop(columns=['ApplicationDate','ApplicationMonth','ApplicationDay','ApplicationDayOfWeek'], inplace= True)"
   ]
  },
  {
   "cell_type": "markdown",
   "metadata": {},
   "source": [
    "### 2. ['EmploymentType]"
   ]
  },
  {
   "cell_type": "code",
   "execution_count": null,
   "metadata": {},
   "outputs": [
    {
     "data": {
      "text/plain": [
       "Employed - full time    7714\n",
       "Employed - part time     570\n",
       "Self employed            418\n",
       "Retired                  145\n",
       "Name: EmploymentType, dtype: int64"
      ]
     },
     "execution_count": 22,
     "metadata": {},
     "output_type": "execute_result"
    }
   ],
   "source": [
    "full_df['EmploymentType'].value_counts()"
   ]
  },
  {
   "cell_type": "code",
   "execution_count": null,
   "metadata": {},
   "outputs": [
    {
     "data": {
      "text/html": [
       "<div>\n",
       "<style scoped>\n",
       "    .dataframe tbody tr th:only-of-type {\n",
       "        vertical-align: middle;\n",
       "    }\n",
       "\n",
       "    .dataframe tbody tr th {\n",
       "        vertical-align: top;\n",
       "    }\n",
       "\n",
       "    .dataframe thead th {\n",
       "        text-align: right;\n",
       "    }\n",
       "</style>\n",
       "<table border=\"1\" class=\"dataframe\">\n",
       "  <thead>\n",
       "    <tr style=\"text-align: right;\">\n",
       "      <th></th>\n",
       "      <th>UID</th>\n",
       "      <th>Amount</th>\n",
       "      <th>Term</th>\n",
       "      <th>LoanPurpose</th>\n",
       "      <th>Success</th>\n",
       "      <th>ALL_AgeOfOldestAccount</th>\n",
       "      <th>ALL_AgeOfYoungestAccount</th>\n",
       "      <th>ALL_Count</th>\n",
       "      <th>ALL_CountActive</th>\n",
       "      <th>ALL_CountClosedLast12Months</th>\n",
       "      <th>...</th>\n",
       "      <th>ApplicationMonth_sin</th>\n",
       "      <th>ApplicationMonth_cos</th>\n",
       "      <th>ApplicationDay_sin</th>\n",
       "      <th>ApplicationDay_cos</th>\n",
       "      <th>ApplicationDayOfWeek_sin</th>\n",
       "      <th>ApplicationDayOfWeek_cos</th>\n",
       "      <th>EmploymentType_Employed - full time</th>\n",
       "      <th>EmploymentType_Employed - part time</th>\n",
       "      <th>EmploymentType_Retired</th>\n",
       "      <th>EmploymentType_Self employed</th>\n",
       "    </tr>\n",
       "  </thead>\n",
       "  <tbody>\n",
       "    <tr>\n",
       "      <th>0</th>\n",
       "      <td>4921736</td>\n",
       "      <td>2000</td>\n",
       "      <td>60</td>\n",
       "      <td>Unexpected bills</td>\n",
       "      <td>0</td>\n",
       "      <td>162</td>\n",
       "      <td>17</td>\n",
       "      <td>18</td>\n",
       "      <td>12</td>\n",
       "      <td>0</td>\n",
       "      <td>...</td>\n",
       "      <td>-0.500000</td>\n",
       "      <td>-8.660254e-01</td>\n",
       "      <td>0.571268</td>\n",
       "      <td>0.820763</td>\n",
       "      <td>-0.433884</td>\n",
       "      <td>-0.900969</td>\n",
       "      <td>1</td>\n",
       "      <td>0</td>\n",
       "      <td>0</td>\n",
       "      <td>0</td>\n",
       "    </tr>\n",
       "    <tr>\n",
       "      <th>1</th>\n",
       "      <td>1241981</td>\n",
       "      <td>3000</td>\n",
       "      <td>60</td>\n",
       "      <td>Starting new bussniess</td>\n",
       "      <td>0</td>\n",
       "      <td>266</td>\n",
       "      <td>30</td>\n",
       "      <td>14</td>\n",
       "      <td>10</td>\n",
       "      <td>0</td>\n",
       "      <td>...</td>\n",
       "      <td>0.866025</td>\n",
       "      <td>5.000000e-01</td>\n",
       "      <td>0.724793</td>\n",
       "      <td>0.688967</td>\n",
       "      <td>0.781831</td>\n",
       "      <td>0.623490</td>\n",
       "      <td>1</td>\n",
       "      <td>0</td>\n",
       "      <td>0</td>\n",
       "      <td>0</td>\n",
       "    </tr>\n",
       "    <tr>\n",
       "      <th>2</th>\n",
       "      <td>5751748</td>\n",
       "      <td>20000</td>\n",
       "      <td>60</td>\n",
       "      <td>Business capital</td>\n",
       "      <td>0</td>\n",
       "      <td>90</td>\n",
       "      <td>52</td>\n",
       "      <td>4</td>\n",
       "      <td>2</td>\n",
       "      <td>0</td>\n",
       "      <td>...</td>\n",
       "      <td>-0.866025</td>\n",
       "      <td>-5.000000e-01</td>\n",
       "      <td>0.394356</td>\n",
       "      <td>0.918958</td>\n",
       "      <td>-0.781831</td>\n",
       "      <td>0.623490</td>\n",
       "      <td>1</td>\n",
       "      <td>0</td>\n",
       "      <td>0</td>\n",
       "      <td>0</td>\n",
       "    </tr>\n",
       "    <tr>\n",
       "      <th>3</th>\n",
       "      <td>7163425</td>\n",
       "      <td>20000</td>\n",
       "      <td>60</td>\n",
       "      <td>New business venture</td>\n",
       "      <td>0</td>\n",
       "      <td>163</td>\n",
       "      <td>19</td>\n",
       "      <td>14</td>\n",
       "      <td>6</td>\n",
       "      <td>1</td>\n",
       "      <td>...</td>\n",
       "      <td>-1.000000</td>\n",
       "      <td>-1.836970e-16</td>\n",
       "      <td>-0.998717</td>\n",
       "      <td>-0.050649</td>\n",
       "      <td>0.974928</td>\n",
       "      <td>-0.222521</td>\n",
       "      <td>0</td>\n",
       "      <td>0</td>\n",
       "      <td>0</td>\n",
       "      <td>1</td>\n",
       "    </tr>\n",
       "    <tr>\n",
       "      <th>4</th>\n",
       "      <td>227377</td>\n",
       "      <td>5000</td>\n",
       "      <td>36</td>\n",
       "      <td>car</td>\n",
       "      <td>0</td>\n",
       "      <td>129</td>\n",
       "      <td>2</td>\n",
       "      <td>38</td>\n",
       "      <td>19</td>\n",
       "      <td>4</td>\n",
       "      <td>...</td>\n",
       "      <td>0.500000</td>\n",
       "      <td>8.660254e-01</td>\n",
       "      <td>0.201299</td>\n",
       "      <td>0.979530</td>\n",
       "      <td>0.974928</td>\n",
       "      <td>-0.222521</td>\n",
       "      <td>1</td>\n",
       "      <td>0</td>\n",
       "      <td>0</td>\n",
       "      <td>0</td>\n",
       "    </tr>\n",
       "  </tbody>\n",
       "</table>\n",
       "<p>5 rows × 28 columns</p>\n",
       "</div>"
      ],
      "text/plain": [
       "       UID  Amount  Term             LoanPurpose  Success  \\\n",
       "0  4921736    2000    60        Unexpected bills        0   \n",
       "1  1241981    3000    60  Starting new bussniess        0   \n",
       "2  5751748   20000    60        Business capital        0   \n",
       "3  7163425   20000    60    New business venture        0   \n",
       "4   227377    5000    36                     car        0   \n",
       "\n",
       "   ALL_AgeOfOldestAccount  ALL_AgeOfYoungestAccount  ALL_Count  \\\n",
       "0                     162                        17         18   \n",
       "1                     266                        30         14   \n",
       "2                      90                        52          4   \n",
       "3                     163                        19         14   \n",
       "4                     129                         2         38   \n",
       "\n",
       "   ALL_CountActive  ALL_CountClosedLast12Months  ...  ApplicationMonth_sin  \\\n",
       "0               12                            0  ...             -0.500000   \n",
       "1               10                            0  ...              0.866025   \n",
       "2                2                            0  ...             -0.866025   \n",
       "3                6                            1  ...             -1.000000   \n",
       "4               19                            4  ...              0.500000   \n",
       "\n",
       "   ApplicationMonth_cos  ApplicationDay_sin  ApplicationDay_cos  \\\n",
       "0         -8.660254e-01            0.571268            0.820763   \n",
       "1          5.000000e-01            0.724793            0.688967   \n",
       "2         -5.000000e-01            0.394356            0.918958   \n",
       "3         -1.836970e-16           -0.998717           -0.050649   \n",
       "4          8.660254e-01            0.201299            0.979530   \n",
       "\n",
       "   ApplicationDayOfWeek_sin  ApplicationDayOfWeek_cos  \\\n",
       "0                 -0.433884                 -0.900969   \n",
       "1                  0.781831                  0.623490   \n",
       "2                 -0.781831                  0.623490   \n",
       "3                  0.974928                 -0.222521   \n",
       "4                  0.974928                 -0.222521   \n",
       "\n",
       "   EmploymentType_Employed - full time  EmploymentType_Employed - part time  \\\n",
       "0                                    1                                    0   \n",
       "1                                    1                                    0   \n",
       "2                                    1                                    0   \n",
       "3                                    0                                    0   \n",
       "4                                    1                                    0   \n",
       "\n",
       "   EmploymentType_Retired  EmploymentType_Self employed  \n",
       "0                       0                             0  \n",
       "1                       0                             0  \n",
       "2                       0                             0  \n",
       "3                       0                             1  \n",
       "4                       0                             0  \n",
       "\n",
       "[5 rows x 28 columns]"
      ]
     },
     "execution_count": 23,
     "metadata": {},
     "output_type": "execute_result"
    }
   ],
   "source": [
    "full_df = pd.get_dummies(full_df, columns = ['EmploymentType'])\n",
    "full_df.head()"
   ]
  },
  {
   "cell_type": "markdown",
   "metadata": {},
   "source": [
    "### 3. 'LoanPurpose'"
   ]
  },
  {
   "cell_type": "code",
   "execution_count": null,
   "metadata": {},
   "outputs": [
    {
     "data": {
      "text/plain": [
       "2444"
      ]
     },
     "execution_count": 24,
     "metadata": {},
     "output_type": "execute_result"
    }
   ],
   "source": [
    "# We have more than 2,000 unique values of Loan Purpose, we need to categorize them.\n",
    "full_df['LoanPurpose'].nunique()"
   ]
  },
  {
   "cell_type": "code",
   "execution_count": null,
   "metadata": {},
   "outputs": [
    {
     "data": {
      "text/plain": [
       "Car                   978\n",
       "Consolidation         581\n",
       "car                   373\n",
       "Debt consolidation    357\n",
       "Other                 310\n",
       "Home improvement      224\n",
       "Home improvements     221\n",
       "consolidation         137\n",
       "debt consolidation    133\n",
       "home improvements     113\n",
       "Debt Consolidation    103\n",
       "New car                90\n",
       "home improvement       86\n",
       "Furniture              78\n",
       "Home Improvments       67\n",
       "Short Term Loan        65\n",
       "Debt                   64\n",
       "other                  59\n",
       "Car repairs            50\n",
       "Home Improvements      50\n",
       "Car purchase           49\n",
       "Debts                  49\n",
       "new car                41\n",
       "Car repair             40\n",
       "Home Improvement       38\n",
       "furniture              36\n",
       "Wedding                36\n",
       "Home                   33\n",
       "Car loan               33\n",
       "Vets bills             32\n",
       "Name: LoanPurpose, dtype: int64"
      ]
     },
     "execution_count": 25,
     "metadata": {},
     "output_type": "execute_result"
    }
   ],
   "source": [
    "full_df['LoanPurpose'].value_counts()[:30]"
   ]
  },
  {
   "cell_type": "code",
   "execution_count": null,
   "metadata": {},
   "outputs": [],
   "source": [
    "# First of all, make all that in lower case since there are car, Car, home, Home...\n",
    "full_df['LoanPurpose'] = full_df['LoanPurpose'].str.lower()"
   ]
  },
  {
   "cell_type": "markdown",
   "metadata": {},
   "source": [
    "#### Tried TF-IDF Vectorization, but doesn't work well"
   ]
  },
  {
   "cell_type": "code",
   "execution_count": null,
   "metadata": {},
   "outputs": [],
   "source": [
    "df = full_df.copy()"
   ]
  },
  {
   "cell_type": "code",
   "execution_count": null,
   "metadata": {},
   "outputs": [],
   "source": [
    "# # TF-IDF\n",
    "from sklearn.feature_extraction.text import TfidfVectorizer\n",
    "from sklearn.cluster import KMeans\n",
    "\n",
    "vectorizer = TfidfVectorizer(stop_words='english', ngram_range=(1, 3))  # 2-grams\n",
    "X_tfidf = vectorizer.fit_transform(df['LoanPurpose'])\n",
    "\n",
    "## Vectorization and Clustering\n",
    "number_of_cluster = 5\n",
    "X_tfidf = vectorizer.fit_transform(df['LoanPurpose'])\n",
    "kmeans = KMeans(n_clusters=number_of_cluster, random_state=42)\n",
    "df['LoanPurposeCluster'] = kmeans.fit_predict(X_tfidf)"
   ]
  },
  {
   "cell_type": "code",
   "execution_count": null,
   "metadata": {},
   "outputs": [
    {
     "name": "stdout",
     "output_type": "stream",
     "text": [
      "\n",
      "Cluster 0 top terms:\n",
      "['house', 'loan', 'new car', 'furniture', 'new', 'debts', 'car', 'home improvements', 'home', 'improvements']\n",
      "\n",
      "Cluster 1 top terms:\n",
      "['decorated house', 'decorating', 'decorating home', 'decorating house', 'decorating vet', 'decking', 'çar tax insurance', 'home', 'improvement', 'home improvement']\n",
      "\n",
      "Cluster 2 top terms:\n",
      "['decorating', 'decorating home', 'decorating house', 'decorating vet', 'decorating vet bills', 'decor', 'çar tax insurance', 'consolidation', 'debt consolidation', 'debt']\n",
      "\n",
      "Cluster 3 top terms:\n",
      "['decorated house', 'decorating', 'decorating home', 'decorating house', 'decorating vet', 'decorating vet bills', 'decoration', 'dekory', 'çar tax insurance', 'car']\n",
      "\n",
      "Cluster 4 top terms:\n",
      "['decorated', 'decorated house', 'decorating', 'decorating home', 'decorating house', 'decorating vet', 'decorating vet bills', 'decking garden', 'çar tax insurance', 'consolidation']\n"
     ]
    },
    {
     "name": "stderr",
     "output_type": "stream",
     "text": [
      "/Users/minjoo/opt/anaconda3/envs/nlp/lib/python3.7/site-packages/sklearn/utils/deprecation.py:87: FutureWarning: Function get_feature_names is deprecated; get_feature_names is deprecated in 1.0 and will be removed in 1.2. Please use get_feature_names_out instead.\n",
      "  warnings.warn(msg, category=FutureWarning)\n"
     ]
    }
   ],
   "source": [
    "# Get feature names from TF-IDF vectorizer\n",
    "terms = vectorizer.get_feature_names()\n",
    "# terms = vectorizer.get_feature_names_out()\n",
    "\n",
    "# Display top terms for each cluster\n",
    "for i, center in enumerate(kmeans.cluster_centers_):\n",
    "    print(f\"\\nCluster {i} top terms:\")\n",
    "    term_indices = np.argsort(center)[-10:]  # Get indices of top 10 terms\n",
    "    top_terms = [terms[ind] for ind in term_indices]\n",
    "    print(top_terms)"
   ]
  },
  {
   "cell_type": "markdown",
   "metadata": {},
   "source": [
    "#### So Why not Transformer"
   ]
  },
  {
   "cell_type": "code",
   "execution_count": null,
   "metadata": {},
   "outputs": [],
   "source": [
    "from sentence_transformers import SentenceTransformer\n",
    "from sklearn.cluster import KMeans"
   ]
  },
  {
   "cell_type": "code",
   "execution_count": null,
   "metadata": {},
   "outputs": [],
   "source": [
    "# Generation of Embedding of Sentence-BERT model\n",
    "# transformer_model = SentenceTransformer('paraphrase-MiniLM-L6-v2')\n",
    "transformer_model = SentenceTransformer('paraphrase-MiniLM-L6-v2', device='cpu')"
   ]
  },
  {
   "cell_type": "code",
   "execution_count": null,
   "metadata": {},
   "outputs": [],
   "source": [
    "loan_purpose_embeddings = transformer_model.encode(full_df['LoanPurpose'])"
   ]
  },
  {
   "cell_type": "code",
   "execution_count": null,
   "metadata": {},
   "outputs": [],
   "source": [
    "# KMeans Clustering\n",
    "# It should be more than 8 as experimented\n",
    "kmeans = KMeans(n_clusters=12, random_state=42)\n",
    "full_df['LoanPurposeCluster'] = kmeans.fit_predict(loan_purpose_embeddings)"
   ]
  },
  {
   "cell_type": "code",
   "execution_count": null,
   "metadata": {},
   "outputs": [
    {
     "name": "stdout",
     "output_type": "stream",
     "text": [
      "\n",
      "Cluster 0:\n",
      "- consolidation\n",
      "- consolidation\n",
      "- consolidation\n",
      "- consolidation\n",
      "- consolidation\n",
      "- consolidation. holiday\n",
      "- consolidation\n",
      "- consolidation\n",
      "- consolidation\n",
      "- consolidation\n",
      "- consolidation\n",
      "- consolidation\n",
      "- consolidation\n",
      "- consolidation & holiday\n",
      "- consolidation\n",
      "- consolidation\n",
      "- consolidation\n",
      "- consolidation\n",
      "- consolidation\n",
      "- consolidation\n",
      "\n",
      "Cluster 1:\n",
      "- car purchase\n",
      "- car\n",
      "- new van, advertising\n",
      "- car purchase\n",
      "- car\n",
      "- car\n",
      "- car\n",
      "- car\n",
      "- car\n",
      "- car\n",
      "- a car\n",
      "- car\n",
      "- car\n",
      "- car\n",
      "- car\n",
      "- to buy a new car\n",
      "- used car\n",
      "- van\n",
      "- new car\n",
      "- car\n",
      "\n",
      "Cluster 2:\n",
      "- credit cards\n",
      "- paying credit card\n",
      "- consolidate credit cards\n",
      "- consolidate credit cards\n",
      "- clear cards\n",
      "- car and credit card\n",
      "- home improvement and pay off credit card\n",
      "- consoladate credit\n",
      "- various things including clearing credit card\n",
      "- pay credit cards\n",
      "- credit cards\n",
      "- repay credit cards\n",
      "- credit card consolidation\n",
      "- car and credit card\n",
      "- credit card x2\n",
      "- credit card payment\n",
      "- pay credit card off\n",
      "- credit cards\n",
      "- credit card consolidation\n",
      "- kitchen and credit card repayment\n",
      "\n",
      "Cluster 3:\n",
      "- house improvements\n",
      "- home improvements\n",
      "- home improvements\n",
      "- home improvement\n",
      "- house refurbishment\n",
      "- home improvements\n",
      "- home improvements\n",
      "- refurbishment\n",
      "- home improvements\n",
      "- bills and home improvement\n",
      "- home improvements\n",
      "- home improvement\n",
      "- home improvements\n",
      "- home improvement\n",
      "- home improvements\n",
      "- home improvements\n",
      "- home improvements\n",
      "- home improvement\n",
      "- home improvements\n",
      "- home improvements\n",
      "\n",
      "Cluster 4:\n",
      "- wedding\n",
      "- getting married\n",
      "- decoration\n",
      "- decoration\n",
      "- wedding\n",
      "- caravan\n",
      "- a holiday\n",
      "- wedding\n",
      "- wedding\n",
      "- golf membership\n",
      "- car/ wedding\n",
      "- daughters birthday\n",
      "- holiday\n",
      "- season ticket\n",
      "- wedding\n",
      "- holiday\n",
      "- holiday\n",
      "- engagement ring\n",
      "- engagement ring\n",
      "- holiday and consiladation\n",
      "\n",
      "Cluster 5:\n",
      "- saving\n",
      "- debt,car repairs, sort my life out\n",
      "- car loan\n",
      "- short term loan\n",
      "- car/vehicle loan\n",
      "- short term cash\n",
      "- medical bill\n",
      "- one off payment\n",
      "- save interest\n",
      "- consolidating other borrowing\n",
      "- company investment.\n",
      "- car/vehicle loan\n",
      "- child expenses\n",
      "- short term loan\n",
      "- loans\n",
      "- unexpected expenses\n",
      "- pay of car finance\n",
      "- bike loan\n",
      "- school fees\n",
      "- short term money\n",
      "\n",
      "Cluster 6:\n",
      "- cothing\n",
      "- emergency situation\n",
      "- motorbike\n",
      "- leisure\n",
      "- masters\n",
      "- other\n",
      "- garden emprovment\n",
      "- bike\n",
      "- secondary glazing\n",
      "- other\n",
      "- motorbike\n",
      "- other\n",
      "- unexpected emergency\n",
      "- food\n",
      "- consilidation\n",
      "- billz\n",
      "- other\n",
      "- other\n",
      "- essentials\n",
      "- dentistry\n",
      "\n",
      "Cluster 7:\n",
      "- furniture\n",
      "- home furniture and holiday\n",
      "- furniture\n",
      "- furniture\n",
      "- furniture\n",
      "- furniture\n",
      "- furniture\n",
      "- furniture\n",
      "- furniture\n",
      "- new sofa\n",
      "- new sofa\n",
      "- furniture\n",
      "- furniture\n",
      "- furniture\n",
      "- furniture\n",
      "- furniture\n",
      "- furnishings\n",
      "- furniture\n",
      "- carpet\n",
      "- furniture\n",
      "\n",
      "Cluster 8:\n",
      "- debt consoldation\n",
      "- debt consolidation\n",
      "- debt consolidation\n",
      "- debt consolidation\n",
      "- debt consolidation\n",
      "- debt consolidation\n",
      "- debt consolidation\n",
      "- debt consolidation\n",
      "- debt\n",
      "- debt consolidation\n",
      "- put all debt into one\n",
      "- debt consolidation\n",
      "- debt consolidation\n",
      "- consolidation of debts\n",
      "- debt\n",
      "- credit card debt consolidation\n",
      "- debts\n",
      "- debt consolidation\n",
      "- debt\n",
      "- debt\n",
      "\n",
      "Cluster 9:\n",
      "- vet bills\n",
      "- vet's bills\n",
      "- vet's bills\n",
      "- vets bill\n",
      "- vet bills\n",
      "- vets bills\n",
      "- vets bills\n",
      "- doctors bill\n",
      "- vets bills\n",
      "- vet bill\n",
      "- vet bills\n",
      "- vet bills\n",
      "- vets bills\n",
      "- vets bills\n",
      "- vet bill\n",
      "- vets bill\n",
      "- vet's bills\n",
      "- vet bills\n",
      "- vets bill\n",
      "- vet bill\n",
      "\n",
      "Cluster 10:\n",
      "- boiler repair\n",
      "- car repair\n",
      "- car repairs\n",
      "- repairs\n",
      "- car repairs\n",
      "- home repair\n",
      "- repairs\n",
      "- repairs\n",
      "- car repair\n",
      "- car repairs\n",
      "- roof repairs\n",
      "- home repair work\n",
      "- honeymoon and car repairs\n",
      "- appliance repair\n",
      "- car repair\n",
      "- car fixing\n",
      "- repairs\n",
      "- car repairs\n",
      "- car repairs\n",
      "- car repairs\n",
      "\n",
      "Cluster 11:\n",
      "- house hold\n",
      "- house  equipment\n",
      "- home improvments\n",
      "- furnish house\n",
      "- household\n",
      "- home electrical items\n",
      "- home improvments\n",
      "- home improvments\n",
      "- home\n",
      "- home improvments\n",
      "- household items\n",
      "- house goods\n",
      "- house hold items\n",
      "- moving house\n",
      "- furnishing and fixing home\n",
      "- home\n",
      "- home improvments\n",
      "- house involvements\n",
      "- home\n",
      "- house items\n"
     ]
    }
   ],
   "source": [
    "# Display sample texts from each cluster\n",
    "\n",
    "num_clusters = full_df['LoanPurposeCluster'].nunique() \n",
    "for cluster in range(num_clusters):\n",
    "    print(f\"\\nCluster {cluster}:\")\n",
    "    cluster_texts = full_df[full_df['LoanPurposeCluster'] == cluster]['LoanPurpose'].sample(20, random_state=42)\n",
    "    for text in cluster_texts:\n",
    "        print(f\"- {text}\")"
   ]
  },
  {
   "cell_type": "code",
   "execution_count": null,
   "metadata": {},
   "outputs": [
    {
     "name": "stdout",
     "output_type": "stream",
     "text": [
      "['car & consolidate', 'consolidation', 'consolidate dept', 'consolidate/flat deposit', 'consolidate', 'consolidation and car', 'r consolidation', 'dept consolidation', 'consolidatec', 'consolidated', 'consolidation of bills', 'consolídate', 'consolidation of finances', 'consolidation/car', 'consolidation/repairs', 'consolidation of a couple of bills', 'consolidation and travel', 'consolidation & studies', 'finance products consolidation', 'dept consolidate', 'bills and consolidation', 'traveling and consolidation', 'part consolidation', 'detb consolidation', 'consolidation to enable a move', 'bill consolidation', 'consolidation.', 'tools and consolidation', 'consolidate other depts', 'consolidate other loads', 'dent consolidation', 'consolidate bill', 'holiday and consolidation', 'glasses, consolidation', 'consolidation and other bits', 'car, consolidation', 'car and consolidation', 'consolidation and holiday', 'consolidation, holiday', 'holiday,car,consolidation', 'holiday & consolidation', 'holiday/consolidation', 'consolidation and  holiday', 'consolidate and holiday', 'consolidation. holiday', 'consolidation and a car', 'consolidation + holiday', 'consolidation & holiday', 'car and  consolidation']\n"
     ]
    }
   ],
   "source": [
    "# Show all texts in Cluster 0\n",
    "cluster_0_texts = full_df[full_df['LoanPurposeCluster'] == 0]['LoanPurpose']\n",
    "print(list(cluster_0_texts.unique()))"
   ]
  },
  {
   "cell_type": "code",
   "execution_count": null,
   "metadata": {},
   "outputs": [],
   "source": [
    "# One-hot encode the LoanPurposeCluster column\n",
    "full_df = pd.get_dummies(full_df, columns=['LoanPurposeCluster'], prefix='Cluster')"
   ]
  },
  {
   "cell_type": "code",
   "execution_count": null,
   "metadata": {},
   "outputs": [],
   "source": [
    "# Now we don't need the actual LoanPurpose column, because we just categorized them.\n",
    "full_df.drop(columns = ['LoanPurpose'], inplace = True)"
   ]
  },
  {
   "cell_type": "code",
   "execution_count": null,
   "metadata": {},
   "outputs": [
    {
     "data": {
      "text/html": [
       "<div>\n",
       "<style scoped>\n",
       "    .dataframe tbody tr th:only-of-type {\n",
       "        vertical-align: middle;\n",
       "    }\n",
       "\n",
       "    .dataframe tbody tr th {\n",
       "        vertical-align: top;\n",
       "    }\n",
       "\n",
       "    .dataframe thead th {\n",
       "        text-align: right;\n",
       "    }\n",
       "</style>\n",
       "<table border=\"1\" class=\"dataframe\">\n",
       "  <thead>\n",
       "    <tr style=\"text-align: right;\">\n",
       "      <th></th>\n",
       "      <th>UID</th>\n",
       "      <th>Amount</th>\n",
       "      <th>Term</th>\n",
       "      <th>Success</th>\n",
       "      <th>ALL_AgeOfOldestAccount</th>\n",
       "      <th>ALL_AgeOfYoungestAccount</th>\n",
       "      <th>ALL_Count</th>\n",
       "      <th>ALL_CountActive</th>\n",
       "      <th>ALL_CountClosedLast12Months</th>\n",
       "      <th>ALL_CountDefaultAccounts</th>\n",
       "      <th>...</th>\n",
       "      <th>Cluster_2</th>\n",
       "      <th>Cluster_3</th>\n",
       "      <th>Cluster_4</th>\n",
       "      <th>Cluster_5</th>\n",
       "      <th>Cluster_6</th>\n",
       "      <th>Cluster_7</th>\n",
       "      <th>Cluster_8</th>\n",
       "      <th>Cluster_9</th>\n",
       "      <th>Cluster_10</th>\n",
       "      <th>Cluster_11</th>\n",
       "    </tr>\n",
       "  </thead>\n",
       "  <tbody>\n",
       "    <tr>\n",
       "      <th>0</th>\n",
       "      <td>4921736</td>\n",
       "      <td>2000</td>\n",
       "      <td>60</td>\n",
       "      <td>0</td>\n",
       "      <td>162</td>\n",
       "      <td>17</td>\n",
       "      <td>18</td>\n",
       "      <td>12</td>\n",
       "      <td>0</td>\n",
       "      <td>0</td>\n",
       "      <td>...</td>\n",
       "      <td>0</td>\n",
       "      <td>0</td>\n",
       "      <td>0</td>\n",
       "      <td>1</td>\n",
       "      <td>0</td>\n",
       "      <td>0</td>\n",
       "      <td>0</td>\n",
       "      <td>0</td>\n",
       "      <td>0</td>\n",
       "      <td>0</td>\n",
       "    </tr>\n",
       "    <tr>\n",
       "      <th>1</th>\n",
       "      <td>1241981</td>\n",
       "      <td>3000</td>\n",
       "      <td>60</td>\n",
       "      <td>0</td>\n",
       "      <td>266</td>\n",
       "      <td>30</td>\n",
       "      <td>14</td>\n",
       "      <td>10</td>\n",
       "      <td>0</td>\n",
       "      <td>4</td>\n",
       "      <td>...</td>\n",
       "      <td>0</td>\n",
       "      <td>0</td>\n",
       "      <td>0</td>\n",
       "      <td>0</td>\n",
       "      <td>1</td>\n",
       "      <td>0</td>\n",
       "      <td>0</td>\n",
       "      <td>0</td>\n",
       "      <td>0</td>\n",
       "      <td>0</td>\n",
       "    </tr>\n",
       "    <tr>\n",
       "      <th>2</th>\n",
       "      <td>5751748</td>\n",
       "      <td>20000</td>\n",
       "      <td>60</td>\n",
       "      <td>0</td>\n",
       "      <td>90</td>\n",
       "      <td>52</td>\n",
       "      <td>4</td>\n",
       "      <td>2</td>\n",
       "      <td>0</td>\n",
       "      <td>1</td>\n",
       "      <td>...</td>\n",
       "      <td>0</td>\n",
       "      <td>0</td>\n",
       "      <td>0</td>\n",
       "      <td>1</td>\n",
       "      <td>0</td>\n",
       "      <td>0</td>\n",
       "      <td>0</td>\n",
       "      <td>0</td>\n",
       "      <td>0</td>\n",
       "      <td>0</td>\n",
       "    </tr>\n",
       "    <tr>\n",
       "      <th>3</th>\n",
       "      <td>7163425</td>\n",
       "      <td>20000</td>\n",
       "      <td>60</td>\n",
       "      <td>0</td>\n",
       "      <td>163</td>\n",
       "      <td>19</td>\n",
       "      <td>14</td>\n",
       "      <td>6</td>\n",
       "      <td>1</td>\n",
       "      <td>1</td>\n",
       "      <td>...</td>\n",
       "      <td>0</td>\n",
       "      <td>0</td>\n",
       "      <td>0</td>\n",
       "      <td>0</td>\n",
       "      <td>1</td>\n",
       "      <td>0</td>\n",
       "      <td>0</td>\n",
       "      <td>0</td>\n",
       "      <td>0</td>\n",
       "      <td>0</td>\n",
       "    </tr>\n",
       "    <tr>\n",
       "      <th>4</th>\n",
       "      <td>227377</td>\n",
       "      <td>5000</td>\n",
       "      <td>36</td>\n",
       "      <td>0</td>\n",
       "      <td>129</td>\n",
       "      <td>2</td>\n",
       "      <td>38</td>\n",
       "      <td>19</td>\n",
       "      <td>4</td>\n",
       "      <td>9</td>\n",
       "      <td>...</td>\n",
       "      <td>0</td>\n",
       "      <td>0</td>\n",
       "      <td>0</td>\n",
       "      <td>0</td>\n",
       "      <td>0</td>\n",
       "      <td>0</td>\n",
       "      <td>0</td>\n",
       "      <td>0</td>\n",
       "      <td>0</td>\n",
       "      <td>0</td>\n",
       "    </tr>\n",
       "    <tr>\n",
       "      <th>...</th>\n",
       "      <td>...</td>\n",
       "      <td>...</td>\n",
       "      <td>...</td>\n",
       "      <td>...</td>\n",
       "      <td>...</td>\n",
       "      <td>...</td>\n",
       "      <td>...</td>\n",
       "      <td>...</td>\n",
       "      <td>...</td>\n",
       "      <td>...</td>\n",
       "      <td>...</td>\n",
       "      <td>...</td>\n",
       "      <td>...</td>\n",
       "      <td>...</td>\n",
       "      <td>...</td>\n",
       "      <td>...</td>\n",
       "      <td>...</td>\n",
       "      <td>...</td>\n",
       "      <td>...</td>\n",
       "      <td>...</td>\n",
       "      <td>...</td>\n",
       "    </tr>\n",
       "    <tr>\n",
       "      <th>8842</th>\n",
       "      <td>8681053</td>\n",
       "      <td>5000</td>\n",
       "      <td>60</td>\n",
       "      <td>0</td>\n",
       "      <td>164</td>\n",
       "      <td>2</td>\n",
       "      <td>22</td>\n",
       "      <td>16</td>\n",
       "      <td>2</td>\n",
       "      <td>0</td>\n",
       "      <td>...</td>\n",
       "      <td>0</td>\n",
       "      <td>0</td>\n",
       "      <td>1</td>\n",
       "      <td>0</td>\n",
       "      <td>0</td>\n",
       "      <td>0</td>\n",
       "      <td>0</td>\n",
       "      <td>0</td>\n",
       "      <td>0</td>\n",
       "      <td>0</td>\n",
       "    </tr>\n",
       "    <tr>\n",
       "      <th>8843</th>\n",
       "      <td>8768469</td>\n",
       "      <td>8000</td>\n",
       "      <td>24</td>\n",
       "      <td>0</td>\n",
       "      <td>275</td>\n",
       "      <td>20</td>\n",
       "      <td>7</td>\n",
       "      <td>4</td>\n",
       "      <td>1</td>\n",
       "      <td>1</td>\n",
       "      <td>...</td>\n",
       "      <td>0</td>\n",
       "      <td>0</td>\n",
       "      <td>1</td>\n",
       "      <td>0</td>\n",
       "      <td>0</td>\n",
       "      <td>0</td>\n",
       "      <td>0</td>\n",
       "      <td>0</td>\n",
       "      <td>0</td>\n",
       "      <td>0</td>\n",
       "    </tr>\n",
       "    <tr>\n",
       "      <th>8844</th>\n",
       "      <td>8794971</td>\n",
       "      <td>1000</td>\n",
       "      <td>36</td>\n",
       "      <td>0</td>\n",
       "      <td>145</td>\n",
       "      <td>8</td>\n",
       "      <td>14</td>\n",
       "      <td>13</td>\n",
       "      <td>0</td>\n",
       "      <td>0</td>\n",
       "      <td>...</td>\n",
       "      <td>0</td>\n",
       "      <td>0</td>\n",
       "      <td>1</td>\n",
       "      <td>0</td>\n",
       "      <td>0</td>\n",
       "      <td>0</td>\n",
       "      <td>0</td>\n",
       "      <td>0</td>\n",
       "      <td>0</td>\n",
       "      <td>0</td>\n",
       "    </tr>\n",
       "    <tr>\n",
       "      <th>8845</th>\n",
       "      <td>8875138</td>\n",
       "      <td>10000</td>\n",
       "      <td>60</td>\n",
       "      <td>0</td>\n",
       "      <td>12</td>\n",
       "      <td>7</td>\n",
       "      <td>4</td>\n",
       "      <td>3</td>\n",
       "      <td>1</td>\n",
       "      <td>0</td>\n",
       "      <td>...</td>\n",
       "      <td>0</td>\n",
       "      <td>0</td>\n",
       "      <td>1</td>\n",
       "      <td>0</td>\n",
       "      <td>0</td>\n",
       "      <td>0</td>\n",
       "      <td>0</td>\n",
       "      <td>0</td>\n",
       "      <td>0</td>\n",
       "      <td>0</td>\n",
       "    </tr>\n",
       "    <tr>\n",
       "      <th>8846</th>\n",
       "      <td>9134889</td>\n",
       "      <td>20000</td>\n",
       "      <td>60</td>\n",
       "      <td>0</td>\n",
       "      <td>45</td>\n",
       "      <td>12</td>\n",
       "      <td>6</td>\n",
       "      <td>5</td>\n",
       "      <td>1</td>\n",
       "      <td>0</td>\n",
       "      <td>...</td>\n",
       "      <td>0</td>\n",
       "      <td>0</td>\n",
       "      <td>1</td>\n",
       "      <td>0</td>\n",
       "      <td>0</td>\n",
       "      <td>0</td>\n",
       "      <td>0</td>\n",
       "      <td>0</td>\n",
       "      <td>0</td>\n",
       "      <td>0</td>\n",
       "    </tr>\n",
       "  </tbody>\n",
       "</table>\n",
       "<p>8847 rows × 39 columns</p>\n",
       "</div>"
      ],
      "text/plain": [
       "          UID  Amount  Term  Success  ALL_AgeOfOldestAccount  \\\n",
       "0     4921736    2000    60        0                     162   \n",
       "1     1241981    3000    60        0                     266   \n",
       "2     5751748   20000    60        0                      90   \n",
       "3     7163425   20000    60        0                     163   \n",
       "4      227377    5000    36        0                     129   \n",
       "...       ...     ...   ...      ...                     ...   \n",
       "8842  8681053    5000    60        0                     164   \n",
       "8843  8768469    8000    24        0                     275   \n",
       "8844  8794971    1000    36        0                     145   \n",
       "8845  8875138   10000    60        0                      12   \n",
       "8846  9134889   20000    60        0                      45   \n",
       "\n",
       "      ALL_AgeOfYoungestAccount  ALL_Count  ALL_CountActive  \\\n",
       "0                           17         18               12   \n",
       "1                           30         14               10   \n",
       "2                           52          4                2   \n",
       "3                           19         14                6   \n",
       "4                            2         38               19   \n",
       "...                        ...        ...              ...   \n",
       "8842                         2         22               16   \n",
       "8843                        20          7                4   \n",
       "8844                         8         14               13   \n",
       "8845                         7          4                3   \n",
       "8846                        12          6                5   \n",
       "\n",
       "      ALL_CountClosedLast12Months  ALL_CountDefaultAccounts  ...  Cluster_2  \\\n",
       "0                               0                         0  ...          0   \n",
       "1                               0                         4  ...          0   \n",
       "2                               0                         1  ...          0   \n",
       "3                               1                         1  ...          0   \n",
       "4                               4                         9  ...          0   \n",
       "...                           ...                       ...  ...        ...   \n",
       "8842                            2                         0  ...          0   \n",
       "8843                            1                         1  ...          0   \n",
       "8844                            0                         0  ...          0   \n",
       "8845                            1                         0  ...          0   \n",
       "8846                            1                         0  ...          0   \n",
       "\n",
       "      Cluster_3  Cluster_4  Cluster_5  Cluster_6  Cluster_7  Cluster_8  \\\n",
       "0             0          0          1          0          0          0   \n",
       "1             0          0          0          1          0          0   \n",
       "2             0          0          1          0          0          0   \n",
       "3             0          0          0          1          0          0   \n",
       "4             0          0          0          0          0          0   \n",
       "...         ...        ...        ...        ...        ...        ...   \n",
       "8842          0          1          0          0          0          0   \n",
       "8843          0          1          0          0          0          0   \n",
       "8844          0          1          0          0          0          0   \n",
       "8845          0          1          0          0          0          0   \n",
       "8846          0          1          0          0          0          0   \n",
       "\n",
       "      Cluster_9  Cluster_10  Cluster_11  \n",
       "0             0           0           0  \n",
       "1             0           0           0  \n",
       "2             0           0           0  \n",
       "3             0           0           0  \n",
       "4             0           0           0  \n",
       "...         ...         ...         ...  \n",
       "8842          0           0           0  \n",
       "8843          0           0           0  \n",
       "8844          0           0           0  \n",
       "8845          0           0           0  \n",
       "8846          0           0           0  \n",
       "\n",
       "[8847 rows x 39 columns]"
      ]
     },
     "execution_count": 38,
     "metadata": {},
     "output_type": "execute_result"
    }
   ],
   "source": [
    "full_df"
   ]
  },
  {
   "cell_type": "code",
   "execution_count": null,
   "metadata": {},
   "outputs": [],
   "source": [
    "# full_df.to_csv('full_df.csv', index=False)"
   ]
  },
  {
   "cell_type": "code",
   "execution_count": null,
   "metadata": {},
   "outputs": [],
   "source": [
    "# End"
   ]
  },
  {
   "cell_type": "markdown",
   "metadata": {},
   "source": [
    "# 3. Feature Selection - Using Techniques"
   ]
  },
  {
   "cell_type": "code",
   "execution_count": null,
   "metadata": {},
   "outputs": [],
   "source": [
    "full_df.drop(columns = ['UID'], inplace = True)"
   ]
  },
  {
   "cell_type": "code",
   "execution_count": null,
   "metadata": {},
   "outputs": [
    {
     "data": {
      "image/png": "[encoded data removed]",
      "text/plain": [
       "<Figure size 504x360 with 1 Axes>"
      ]
     },
     "metadata": {
      "needs_background": "light"
     },
     "output_type": "display_data"
    }
   ],
   "source": [
    "import matplotlib.pyplot as plt\n",
    "plt.figure(figsize = (7,5))\n",
    "full_df.Success.value_counts().sort_values().plot(kind = 'bar')\n",
    "plt.title('Distribution of Target value')\n",
    "plt.show()"
   ]
  },
  {
   "cell_type": "code",
   "execution_count": null,
   "metadata": {},
   "outputs": [],
   "source": [
    "from sklearn.model_selection import train_test_split\n",
    "from sklearn.preprocessing import StandardScaler\n",
    "\n",
    "# Define X and y\n",
    "X = full_df.drop(columns=['Success'])\n",
    "y = full_df['Success']\n",
    "\n",
    "# Split into Train and Test sets\n",
    "X_train, X_test, y_train, y_test = train_test_split(X, y,\n",
    "                                                    shuffle = True,\n",
    "                                                    test_size = 0.2,\n",
    "                                                    random_state = 42,\n",
    "                                                    stratify = y)\n",
    "# Reset index\n",
    "X_train = X_train.reset_index(drop=True)\n",
    "X_test = X_test.reset_index(drop=True)\n",
    "y_train = y_train.reset_index(drop=True)\n",
    "y_test = y_test.reset_index(drop=True)\n",
    "\n",
    "# Scale the data\n",
    "scaler = StandardScaler()\n",
    "# X_train_scaled = scaler.fit_transform(X_train)\n",
    "# X_test_scaled = scaler.transform(X_test)\n",
    "\n",
    "X_train_scaled = pd.DataFrame(scaler.fit_transform(X_train), columns=X_train.columns)\n",
    "X_test_scaled = pd.DataFrame(scaler.transform(X_test), columns=X_test.columns)"
   ]
  },
  {
   "cell_type": "code",
   "execution_count": null,
   "metadata": {},
   "outputs": [],
   "source": []
  },
  {
   "cell_type": "markdown",
   "metadata": {},
   "source": [
    "## 3-0. Define Baseline Model"
   ]
  },
  {
   "cell_type": "markdown",
   "metadata": {},
   "source": [
    "### Generate class for efficiency"
   ]
  },
  {
   "cell_type": "code",
   "execution_count": null,
   "metadata": {},
   "outputs": [],
   "source": [
    "from sklearn.metrics import f1_score, average_precision_score\n",
    "import seaborn as sns\n",
    "\n",
    "class ModelEvaluator:\n",
    "    def __init__(self):\n",
    "        self.graph_df = pd.DataFrame(columns = ['Method', 'f1_score', 'pr_auc_score'])\n",
    "\n",
    "    def calculate_update_score(self, model, method, selected_features, manual_X_train=None, manual_X_test=None):\n",
    "        \n",
    "        # if selected_features == 'manual' and manual_X_train is not None and manual_X_test is not None:\n",
    "        if isinstance(selected_features, str) and selected_features == 'manual' and manual_X_train is not None and manual_X_test is not None:\n",
    "            sel_X_train = manual_X_train\n",
    "            sel_X_train = manual_X_train\n",
    "            sel_X_test = manual_X_test\n",
    "            num_features = manual_X_train.shape[1]\n",
    "        else:\n",
    "            sel_X_train = X_train_scaled[selected_features]\n",
    "            sel_X_test = X_test_scaled[selected_features]\n",
    "            num_features = len(selected_features)\n",
    "\n",
    "        model.fit(sel_X_train, y_train)\n",
    "\n",
    "        y_pred = model.predict(sel_X_test)\n",
    "        y_probs = model.predict_proba(sel_X_test)[:, 1]\n",
    "\n",
    "        f1 = round(f1_score(y_test, y_pred, average = 'weighted'), 2)\n",
    "        pr_auc = round(average_precision_score(y_test, y_probs), 2)\n",
    "\n",
    "        print(f'{method}_n_features_{num_features}_f1_score :, {f1}')\n",
    "        print(f'{method}_n_features_{num_features}_pr_auc_score : {pr_auc}')\n",
    "\n",
    "        # Append results to the graph DataFrame\n",
    "        self.graph_df = self.graph_df.append({\n",
    "            'Method' : f'{method}_n_features_{num_features}',\n",
    "            'f1_score' : f1,\n",
    "            'pr_auc_score' : pr_auc\n",
    "        }, ignore_index = True)\n",
    "\n",
    "    def plot_scores(self):\n",
    "        graph_df_long = self.graph_df.melt(id_vars = 'Method', var_name = 'Metric', value_name = 'Score')\n",
    "\n",
    "        # Dynamically adjust the figure width based on the number of methods\n",
    "        fig_width = max(8, len(self.graph_df['Method'].unique()) * 2)  # Ensures a minimum width of 8\n",
    "        plt.figure(figsize=(fig_width, 6))\n",
    "\n",
    "        # Plot with seaborn\n",
    "        ax = sns.barplot(x = 'Method', y = 'Score', hue = 'Metric', data = graph_df_long)\n",
    "        plt.title('Comparison of F1 score and PR-AUC score by method')\n",
    "        plt.ylabel('Score')\n",
    "        plt.xlabel('Method')\n",
    "        plt.ylim(0,1)\n",
    "        ax.legend(loc = 'upper left', bbox_to_anchor=(1, 1))\n",
    "\n",
    "        # Add values on top of each bar\n",
    "        for container in ax.containers:\n",
    "            ax.bar_label(container, fmt = '%.2f', padding = 3)\n",
    "\n",
    "        plt.xticks(rotation = 45, ha = 'right')\n",
    "        plt.tight_layout()\n",
    "        plt.show()"
   ]
  },
  {
   "cell_type": "code",
   "execution_count": null,
   "metadata": {},
   "outputs": [],
   "source": [
    "evaluator = ModelEvaluator()"
   ]
  },
  {
   "cell_type": "code",
   "execution_count": null,
   "metadata": {},
   "outputs": [],
   "source": [
    "from sklearn import tree\n",
    "\n",
    "base_model = tree.DecisionTreeClassifier(random_state= 42)"
   ]
  },
  {
   "cell_type": "code",
   "execution_count": null,
   "metadata": {},
   "outputs": [
    {
     "name": "stdout",
     "output_type": "stream",
     "text": [
      "base_n_features_37_f1_score :, 0.85\n",
      "base_n_features_37_pr_auc_score : 0.16\n"
     ]
    },
    {
     "data": {
      "image/png": "[encoded data removed]",
      "text/plain": [
       "<Figure size 576x432 with 1 Axes>"
      ]
     },
     "metadata": {
      "needs_background": "light"
     },
     "output_type": "display_data"
    }
   ],
   "source": [
    "evaluator = ModelEvaluator()\n",
    "evaluator.calculate_update_score(base_model, method = 'base', selected_features = X.columns)\n",
    "evaluator.plot_scores()"
   ]
  },
  {
   "cell_type": "code",
   "execution_count": null,
   "metadata": {},
   "outputs": [],
   "source": []
  },
  {
   "cell_type": "markdown",
   "metadata": {},
   "source": [
    "## 3-1. Filter Methods -(1) Variance Threshold"
   ]
  },
  {
   "cell_type": "code",
   "execution_count": null,
   "metadata": {},
   "outputs": [],
   "source": [
    "from sklearn.preprocessing import MinMaxScaler\n",
    "\n",
    "scaler = MinMaxScaler()\n",
    "\n",
    "X_train_scaled_minmax = scaler.fit_transform(X_train)"
   ]
  },
  {
   "cell_type": "code",
   "execution_count": null,
   "metadata": {},
   "outputs": [
    {
     "data": {
      "image/png": "[encoded data removed]",
      "text/plain": [
       "<Figure size 864x432 with 1 Axes>"
      ]
     },
     "metadata": {
      "needs_background": "light"
     },
     "output_type": "display_data"
    }
   ],
   "source": [
    "fig, ax = plt.subplots(figsize = (12,6))\n",
    "\n",
    "x = X.columns\n",
    "y = X_train_scaled_minmax.var(axis=0)\n",
    "\n",
    "ax.bar(x, y, width=0.2)\n",
    "ax.set_xlabel('Features')\n",
    "ax.set_ylabel('Variance')\n",
    "# ax.set_ylim(0, 0.1)\n",
    "\n",
    "for index, value in enumerate(y):\n",
    "    plt.text(x=index, y=value+0.001, s=str(round(value, 3)), ha='center')\n",
    "\n",
    "plt.tight_layout()\n",
    "fig.autofmt_xdate()\n",
    "plt.show()"
   ]
  },
  {
   "cell_type": "code",
   "execution_count": null,
   "metadata": {},
   "outputs": [
    {
     "name": "stdout",
     "output_type": "stream",
     "text": [
      "Index(['Amount', 'Term', 'ALL_CountActive', 'ALL_CountDefaultAccounts',\n",
      "       'ALL_WorstPaymentStatusActiveAccounts', 'DaysSinceApplication',\n",
      "       'ApplicationMonth_sin', 'ApplicationMonth_cos', 'ApplicationDay_sin',\n",
      "       'ApplicationDay_cos', 'ApplicationDayOfWeek_sin',\n",
      "       'ApplicationDayOfWeek_cos', 'EmploymentType_Employed - full time',\n",
      "       'EmploymentType_Employed - part time', 'EmploymentType_Retired',\n",
      "       'EmploymentType_Self employed', 'Cluster_0', 'Cluster_1', 'Cluster_2',\n",
      "       'Cluster_3', 'Cluster_4', 'Cluster_5', 'Cluster_6', 'Cluster_7',\n",
      "       'Cluster_8', 'Cluster_9', 'Cluster_10', 'Cluster_11'],\n",
      "      dtype='object')\n"
     ]
    }
   ],
   "source": [
    "# var_threshold = 0.1\n",
    "var_threshold = 0.01\n",
    "var_selected_cols = X.columns[[value > var_threshold for value in X_train_scaled_minmax.var(axis=0)]]\n",
    "print(var_selected_cols)"
   ]
  },
  {
   "cell_type": "code",
   "execution_count": null,
   "metadata": {},
   "outputs": [
    {
     "name": "stdout",
     "output_type": "stream",
     "text": [
      "Var_threshole_0.01_n_features_28_f1_score :, 0.85\n",
      "Var_threshole_0.01_n_features_28_pr_auc_score : 0.16\n"
     ]
    },
    {
     "data": {
      "image/png": "[encoded data removed]",
      "text/plain": [
       "<Figure size 576x432 with 1 Axes>"
      ]
     },
     "metadata": {
      "needs_background": "light"
     },
     "output_type": "display_data"
    }
   ],
   "source": [
    "evaluator.calculate_update_score(base_model, method = f'Var_threshole_{var_threshold}', selected_features=var_selected_cols)\n",
    "evaluator.plot_scores()"
   ]
  },
  {
   "cell_type": "markdown",
   "metadata": {},
   "source": [
    "After dropping some columns that has low variance, the f1 score and pr_auc score get low. so decided not to drop any columns from here."
   ]
  },
  {
   "cell_type": "markdown",
   "metadata": {},
   "source": [
    "## 3-1. Filter Methods - (2) Correlation"
   ]
  },
  {
   "cell_type": "markdown",
   "metadata": {},
   "source": [
    "피처간의 상관계수가 0.8을 넘을 때, target 과의 상관계수가 높은 것을 살리고 하나는 drop.\n",
    "target과의 상관계수 중에서 높은것 N 개 만 살리기"
   ]
  },
  {
   "cell_type": "code",
   "execution_count": null,
   "metadata": {},
   "outputs": [
    {
     "name": "stdout",
     "output_type": "stream",
     "text": [
      "{'ALL_CountSettled', 'ALL_CountDefaultAccounts', 'ALL_Count'}\n",
      "Selected features: ['ALL_WorstPaymentStatusActiveAccounts', 'Amount', 'ALL_MeanAccountAge', 'ALL_AgeOfOldestAccount', 'ALL_CountOpenedLast12Months']\n"
     ]
    }
   ],
   "source": [
    "# Step 1: Calculate the correlation matrix using Spearman\n",
    "correlation_matrix = full_df.corr(method='spearman')\n",
    "\n",
    "# Step 2: Calculate correlation of each feature with the target\n",
    "target_corr = full_df.corr()['Success'].abs().drop('Success')\n",
    "\n",
    "# Step 3: Identify pairs of features with high inter-correlation\n",
    "correlation_threshold = 0.8\n",
    "upper_triangle = correlation_matrix.where(np.triu(np.ones(correlation_matrix.shape), k=1).astype(bool))\n",
    "\n",
    "# Step 4: For each pair of highly correlated features, drop the one with the lower correlation to the target\n",
    "to_drop = set()  # Use a set to avoid duplicate entries\n",
    "for column in upper_triangle.columns:\n",
    "    high_corr_features = upper_triangle.index[upper_triangle[column].abs() > correlation_threshold].tolist()\n",
    "    for feature in high_corr_features:\n",
    "        # Compare correlation with the target and keep the more correlated feature\n",
    "        if target_corr[feature] > target_corr[column]:\n",
    "            to_drop.add(column)\n",
    "        else:\n",
    "            to_drop.add(feature)\n",
    "\n",
    "# Drop the selected features from X_train\n",
    "print(to_drop)\n",
    "X_reduced = X.drop(columns=to_drop)\n",
    "\n",
    "# Step 5: Select top `n` features with the highest absolute correlation to the target\n",
    "n = 5  # Number of top features to keep\n",
    "corr_selected_cols = target_corr.drop(index=to_drop).nlargest(n).index.tolist()\n",
    "\n",
    "print(\"Selected features:\", corr_selected_cols)"
   ]
  },
  {
   "cell_type": "code",
   "execution_count": null,
   "metadata": {},
   "outputs": [
    {
     "data": {
      "text/plain": [
       "['ALL_WorstPaymentStatusActiveAccounts',\n",
       " 'Amount',\n",
       " 'ALL_MeanAccountAge',\n",
       " 'ALL_AgeOfOldestAccount',\n",
       " 'ALL_CountOpenedLast12Months']"
      ]
     },
     "execution_count": 132,
     "metadata": {},
     "output_type": "execute_result"
    }
   ],
   "source": [
    "corr_selected_cols"
   ]
  },
  {
   "cell_type": "markdown",
   "metadata": {},
   "source": [
    "- Corr_1 : For each pair of highly correlated features, drop the one with the lower correlation to the target only -> n_features = 34\n",
    "- Corr_2 : Corr_1 + chosse top N features in the order of highest absolute correlation to the target -> n_features = 10"
   ]
  },
  {
   "cell_type": "code",
   "execution_count": null,
   "metadata": {},
   "outputs": [
    {
     "name": "stdout",
     "output_type": "stream",
     "text": [
      "base_n_features_37_f1_score :, 0.85\n",
      "base_n_features_37_pr_auc_score : 0.16\n"
     ]
    },
    {
     "data": {
      "image/png": "[encoded data removed]",
      "text/plain": [
       "<Figure size 576x432 with 1 Axes>"
      ]
     },
     "metadata": {
      "needs_background": "light"
     },
     "output_type": "display_data"
    }
   ],
   "source": [
    "evaluator = ModelEvaluator()\n",
    "evaluator.calculate_update_score(base_model, method = 'base', selected_features = X.columns)\n",
    "evaluator.plot_scores()"
   ]
  },
  {
   "cell_type": "code",
   "execution_count": null,
   "metadata": {},
   "outputs": [
    {
     "name": "stdout",
     "output_type": "stream",
     "text": [
      "Corr_n_features_5_f1_score :, 0.83\n",
      "Corr_n_features_5_pr_auc_score : 0.13\n"
     ]
    },
    {
     "data": {
      "image/png": "[encoded data removed]",
      "text/plain": [
       "<Figure size 1296x432 with 1 Axes>"
      ]
     },
     "metadata": {
      "needs_background": "light"
     },
     "output_type": "display_data"
    }
   ],
   "source": [
    "# evaluator.calculate_update_score(base_model, method = 'Corr_1', selected_features = X_reduced.columns)\n",
    "evaluator.calculate_update_score(base_model, method = 'Corr', selected_features = corr_selected_cols)\n",
    "\n",
    "evaluator.plot_scores()"
   ]
  },
  {
   "cell_type": "code",
   "execution_count": null,
   "metadata": {},
   "outputs": [
    {
     "data": {
      "image/png": "[encoded data removed]",
      "text/plain": [
       "<Figure size 1440x2016 with 19 Axes>"
      ]
     },
     "metadata": {
      "needs_background": "light"
     },
     "output_type": "display_data"
    }
   ],
   "source": [
    "num_features = full_df.select_dtypes(include=['float64', 'int64']).columns\n",
    "\n",
    "num_plots = len(num_features)\n",
    "ncols = 3\n",
    "nrows = (num_plots // ncols) + (num_plots % ncols > 0)\n",
    "\n",
    "fig, axes = plt.subplots(nrows = nrows, ncols = ncols, figsize = (20, nrows * 4))\n",
    "axes = axes.flatten()\n",
    "\n",
    "for i, feature in enumerate(num_features):\n",
    "    sns.histplot(data = full_df, x = feature, hue = 'Success', kde = True, ax = axes[i])\n",
    "    axes[i].set_title(feature)\n",
    "\n",
    "# Remove any empty subplots\n",
    "for j in range(i + 1, len(axes)):\n",
    "    fig.delaxes(axes[j])\n",
    "\n",
    "plt.tight_layout()\n",
    "plt.show()"
   ]
  },
  {
   "cell_type": "markdown",
   "metadata": {},
   "source": [
    "## 3-1. Filter Method - (3) Mutual Information"
   ]
  },
  {
   "cell_type": "code",
   "execution_count": null,
   "metadata": {},
   "outputs": [],
   "source": [
    "from sklearn.feature_selection import SelectKBest\n",
    "from sklearn.feature_selection import mutual_info_classif"
   ]
  },
  {
   "cell_type": "code",
   "execution_count": null,
   "metadata": {},
   "outputs": [],
   "source": [
    "f1_score_list = []\n",
    "pr_auc_score_list = []"
   ]
  },
  {
   "cell_type": "code",
   "execution_count": null,
   "metadata": {},
   "outputs": [
    {
     "data": {
      "text/plain": [
       "37"
      ]
     },
     "execution_count": 136,
     "metadata": {},
     "output_type": "execute_result"
    }
   ],
   "source": [
    "len(X.columns)"
   ]
  },
  {
   "cell_type": "code",
   "execution_count": null,
   "metadata": {},
   "outputs": [],
   "source": [
    "for k in range(1, len(X.columns)+1):\n",
    "    selector = SelectKBest(mutual_info_classif, k = k)\n",
    "    selector.fit(X_train, y_train)\n",
    "\n",
    "    kbest_X_train = selector.transform(X_train)\n",
    "    kbest_X_test = selector.transform(X_test)\n",
    "\n",
    "    base_model.fit(kbest_X_train, y_train)\n",
    "    kbest_y_pred = base_model.predict(kbest_X_test)\n",
    "    kbest_y_probs = base_model.predict_proba(kbest_X_test)[:, 1]\n",
    "\n",
    "    kbest_f1_score = round(f1_score(y_test, kbest_y_pred, average = 'weighted'), 3)\n",
    "    kbest_pr_auc_score = round(average_precision_score(y_test, kbest_y_probs), 3)\n",
    "\n",
    "    f1_score_list.append(kbest_f1_score)\n",
    "    pr_auc_score_list.append(kbest_pr_auc_score)\n",
    "    "
   ]
  },
  {
   "cell_type": "code",
   "execution_count": null,
   "metadata": {},
   "outputs": [
    {
     "data": {
      "image/png": "[encoded data removed]",
      "text/plain": [
       "<Figure size 936x432 with 1 Axes>"
      ]
     },
     "metadata": {
      "needs_background": "light"
     },
     "output_type": "display_data"
    }
   ],
   "source": [
    "temp_df = pd.DataFrame({\n",
    "    'number_features' : range(1,len(X.columns)+1),\n",
    "    'f1_score' : f1_score_list,\n",
    "    'pr_auc_score' : pr_auc_score_list\n",
    "})\n",
    "\n",
    "# Melt the DataFrame into long format\n",
    "temp_df_long = temp_df.melt(id_vars='number_features', var_name='Metric', value_name='Score')\n",
    "\n",
    "# Plot with Seaborn\n",
    "plt.figure(figsize=(13, 6))\n",
    "ax = sns.barplot(x='number_features', y='Score', hue='Metric', data= temp_df_long)\n",
    "plt.title('Comparison of F1 Score and PR-AUC Score by number of features')\n",
    "plt.ylabel('Score')\n",
    "plt.xlabel('Number of features')\n",
    "plt.ylim(0,1)\n",
    "ax.legend(loc = 'upper left', bbox_to_anchor=(1, 1))\n",
    "\n",
    "# Add values on top of each bar\n",
    "for container in ax.containers:\n",
    "    ax.bar_label(container, fmt='%.3f', padding=3)\n",
    "\n",
    "plt.show()"
   ]
  },
  {
   "cell_type": "code",
   "execution_count": null,
   "metadata": {},
   "outputs": [
    {
     "data": {
      "text/plain": [
       "Index(['Amount', 'ALL_AgeOfOldestAccount', 'ALL_AgeOfYoungestAccount',\n",
       "       'ALL_Count', 'ALL_CountActive', 'ALL_CountClosedLast12Months',\n",
       "       'ALL_CountDefaultAccounts', 'ALL_CountOpenedLast12Months',\n",
       "       'ALL_CountSettled', 'ALL_MeanAccountAge',\n",
       "       'ALL_SumCurrentOutstandingBalExcMtg',\n",
       "       'ALL_WorstPaymentStatusActiveAccounts', 'Cluster_2', 'Cluster_4',\n",
       "       'Cluster_9'],\n",
       "      dtype='object')"
      ]
     },
     "execution_count": 149,
     "metadata": {},
     "output_type": "execute_result"
    }
   ],
   "source": [
    "selector = SelectKBest(mutual_info_classif, k=15)\n",
    "selector.fit(X_train, y_train)\n",
    "\n",
    "selected_feature_mask = selector.get_support()\n",
    "\n",
    "mi_sel_features = X_train.columns[selected_feature_mask]\n",
    "\n",
    "mi_sel_features"
   ]
  },
  {
   "cell_type": "code",
   "execution_count": null,
   "metadata": {},
   "outputs": [
    {
     "name": "stdout",
     "output_type": "stream",
     "text": [
      "base_n_features_37_f1_score :, 0.85\n",
      "base_n_features_37_pr_auc_score : 0.16\n"
     ]
    }
   ],
   "source": [
    "evaluator = ModelEvaluator()\n",
    "evaluator.calculate_update_score(base_model, method = 'base', selected_features = X.columns)"
   ]
  },
  {
   "cell_type": "code",
   "execution_count": null,
   "metadata": {},
   "outputs": [
    {
     "name": "stdout",
     "output_type": "stream",
     "text": [
      "Filter_MI_n_features_15_f1_score :, 0.84\n",
      "Filter_MI_n_features_15_pr_auc_score : 0.14\n"
     ]
    },
    {
     "data": {
      "image/png": "[encoded data removed]",
      "text/plain": [
       "<Figure size 720x432 with 1 Axes>"
      ]
     },
     "metadata": {
      "needs_background": "light"
     },
     "output_type": "display_data"
    }
   ],
   "source": [
    "evaluator.calculate_update_score(base_model, method = 'Filter_MI', selected_features = mi_sel_features)\n",
    "evaluator.plot_scores()"
   ]
  },
  {
   "cell_type": "markdown",
   "metadata": {},
   "source": [
    "## 3-2. Wrapper Methods - Recursive feature Elimination (RFE)\n",
    "\n",
    "- Reduing features is the key\n",
    "- find the minimal features\n",
    "- model to be not complex\n",
    "- Calculate the featrue importnace\n",
    "- Wrapper - forward, backward, bi-directional\n",
    "- model can add or drop the features \n",
    "- wrap features together\n",
    "\n",
    "vary depending on the model\n",
    "- large coffecient\n",
    "- large feature importance\n",
    "\n",
    "the difference between RFE and Embedded method is RME removes features iteratively based on feature importance but does so ouside of the main training process."
   ]
  },
  {
   "cell_type": "code",
   "execution_count": null,
   "metadata": {},
   "outputs": [],
   "source": [
    "from sklearn.feature_selection import RFECV\n",
    "from sklearn.metrics import f1_score, make_scorer\n",
    "from sklearn.model_selection import StratifiedKFold"
   ]
  },
  {
   "cell_type": "code",
   "execution_count": null,
   "metadata": {},
   "outputs": [
    {
     "data": {
      "text/plain": [
       "RFECV(cv=StratifiedKFold(n_splits=5, random_state=42, shuffle=True),\n",
       "      estimator=DecisionTreeClassifier(random_state=42),\n",
       "      min_features_to_select=5,\n",
       "      scoring=make_scorer(f1_score, average=weighted))"
      ]
     },
     "execution_count": 197,
     "metadata": {},
     "output_type": "execute_result"
    }
   ],
   "source": [
    "# Define cross-validation strategy\n",
    "cv_strategy = StratifiedKFold(n_splits=5, shuffle=True, random_state=42)\n",
    "\n",
    "# Custom scorers for weighted F1 and PR-AUC\n",
    "weighted_f1_scorer = make_scorer(f1_score, average='weighted')\n",
    "pr_auc_scorer = make_scorer(average_precision_score, needs_proba=True)\n",
    "\n",
    "# Use RFECV to perform RFE with cross-validation\n",
    "# We specify 'f1' as the scoring to optimize F1-score during feature selection\n",
    "selector = RFECV(estimator=base_model, step=1, cv=cv_strategy, scoring = weighted_f1_scorer, min_features_to_select=5)\n",
    "selector.fit(X_train_scaled, y_train)"
   ]
  },
  {
   "cell_type": "code",
   "execution_count": null,
   "metadata": {},
   "outputs": [
    {
     "name": "stdout",
     "output_type": "stream",
     "text": [
      "Optimal number of features :  18\n",
      "Selected Features: ['Amount', 'Term', 'ALL_AgeOfOldestAccount', 'ALL_AgeOfYoungestAccount', 'ALL_Count', 'ALL_CountActive', 'ALL_CountClosedLast12Months', 'ALL_CountSettled', 'ALL_MeanAccountAge', 'ALL_SumCurrentOutstandingBal', 'ALL_SumCurrentOutstandingBalExcMtg', 'ALL_WorstPaymentStatusActiveAccounts', 'DaysSinceApplication', 'ApplicationMonth_sin', 'ApplicationMonth_cos', 'ApplicationDay_sin', 'ApplicationDay_cos', 'ApplicationDayOfWeek_cos']\n",
      "Cross-validated Weighted F1 Score at optimal features 0.85\n"
     ]
    }
   ],
   "source": [
    "# Print selected feature names\n",
    "selected_features = X_train.columns[selector.support_]\n",
    "optimal_n_features = selector.n_features_\n",
    "optimal_score = max(selector.cv_results_['mean_test_score'])\n",
    "print(\"Optimal number of features : \", optimal_n_features)\n",
    "print(\"Selected Features:\", selected_features.to_list())\n",
    "print(\"Cross-validated Weighted F1 Score at optimal features\", round(optimal_score,2))"
   ]
  },
  {
   "cell_type": "code",
   "execution_count": null,
   "metadata": {},
   "outputs": [
    {
     "name": "stdout",
     "output_type": "stream",
     "text": [
      "Weighted F1 score with selected features: 0.86\n",
      "PR-AUC with selected features: 0.18\n"
     ]
    }
   ],
   "source": [
    "##############################################################\n",
    "# Transform X to keep only the selected features\n",
    "X_train_selected = selector.transform(X_train_scaled)\n",
    "X_test_selected = selector.transform(X_test_scaled)\n",
    "\n",
    "# Re-fit the model on the training set with selected features\n",
    "base_model.fit(X_train_selected, y_train)\n",
    "\n",
    "# Predict probabilities on the test set to adjust the threshold\n",
    "y_probs = base_model.predict_proba(X_test_selected)[:, 1]\n",
    "y_pred = base_model.predict(X_test_selected)\n",
    "\n",
    "# Try different thresholds to optimize F1 score\n",
    "f1 = f1_score(y_test, y_pred, average= 'weighted')\n",
    "pr_auc = average_precision_score(y_test, y_probs)\n",
    "rfe_pr_auc = pr_auc\n",
    "\n",
    "print(\"Weighted F1 score with selected features:\", round(f1,2))\n",
    "print(\"PR-AUC with selected features:\", round(pr_auc,2))\n",
    "\n",
    "\n",
    "# for threshold in [0.2, 0.3, 0.4, 0.5, 0.6]:\n",
    "#     y_pred = (y_probs >= threshold).astype(int)\n",
    "#     f1 = f1_score(y_test, y_pred, average = 'weighted')\n",
    "#     print(f\"F1 score at threshold {threshold}: {round(f1, 3)}\")\n",
    "\n",
    "# # Apply threshold of 0.4 to obtain binary predictions\n",
    "# y_pred = (y_probs >= 0.4).astype(int)\n",
    "# # Calculate F1 score with the adjusted threshold\n",
    "# rfe_f1 = f1_score(y_test, y_pred, average='weighted')\n",
    "# print(f\"\\nF1 score with threshold 0.4: {round(rfe_f1, 3)}\")"
   ]
  },
  {
   "cell_type": "code",
   "execution_count": null,
   "metadata": {},
   "outputs": [
    {
     "name": "stdout",
     "output_type": "stream",
     "text": [
      "base_n_features_37_f1_score :, 0.85\n",
      "base_n_features_37_pr_auc_score : 0.16\n"
     ]
    }
   ],
   "source": [
    "evaluator = ModelEvaluator()\n",
    "evaluator.calculate_update_score(base_model, method = 'base', selected_features = X.columns)"
   ]
  },
  {
   "cell_type": "code",
   "execution_count": null,
   "metadata": {},
   "outputs": [
    {
     "name": "stdout",
     "output_type": "stream",
     "text": [
      "Wrapper_RFE_n_features_18_f1_score :, 0.86\n",
      "Wrapper_RFE_n_features_18_pr_auc_score : 0.18\n"
     ]
    },
    {
     "data": {
      "image/png": "[encoded data removed]",
      "text/plain": [
       "<Figure size 576x432 with 1 Axes>"
      ]
     },
     "metadata": {
      "needs_background": "light"
     },
     "output_type": "display_data"
    }
   ],
   "source": [
    "evaluator.calculate_update_score(base_model, method = 'Wrapper_RFE', selected_features = selected_features)\n",
    "evaluator.plot_scores()"
   ]
  },
  {
   "cell_type": "markdown",
   "metadata": {},
   "source": [
    "## 3-3. Embedded Methods (Feature Importance)\n",
    "\n",
    "RF, Ridge, Elastic Net\n",
    "It sees feature importance \n",
    "integrated feature selection into model training.\n",
    "feature selection is built into the model training itself, like penalizing less important features with L1 Regularization."
   ]
  },
  {
   "cell_type": "markdown",
   "metadata": {},
   "source": [
    "### Lasso"
   ]
  },
  {
   "cell_type": "code",
   "execution_count": null,
   "metadata": {},
   "outputs": [
    {
     "name": "stdout",
     "output_type": "stream",
     "text": [
      "Best C from Random Search: 0.7114476009343418\n",
      "Best Weighted F1 Score from Random Search: 0.856\n",
      "Number of selected features with best C: 33\n",
      "Selected features by Lasso: ['Amount', 'Term', 'ALL_AgeOfOldestAccount', 'ALL_AgeOfYoungestAccount', 'ALL_CountActive', 'ALL_CountClosedLast12Months', 'ALL_CountDefaultAccounts', 'ALL_CountOpenedLast12Months', 'ALL_CountSettled', 'ALL_MeanAccountAge', 'ALL_SumCurrentOutstandingBal', 'ALL_SumCurrentOutstandingBalExcMtg', 'ALL_WorstPaymentStatusActiveAccounts', 'DaysSinceApplication', 'ApplicationMonth_sin', 'ApplicationMonth_cos', 'ApplicationDay_sin', 'ApplicationDay_cos', 'ApplicationDayOfWeek_sin', 'EmploymentType_Employed - full time', 'EmploymentType_Retired', 'EmploymentType_Self employed', 'Cluster_0', 'Cluster_1', 'Cluster_2', 'Cluster_3', 'Cluster_4', 'Cluster_6', 'Cluster_7', 'Cluster_8', 'Cluster_9', 'Cluster_10', 'Cluster_11']\n"
     ]
    }
   ],
   "source": [
    "from sklearn.model_selection import RandomizedSearchCV\n",
    "from scipy.stats import loguniform  # For sampling C values on a logarithmic scale\n",
    "\n",
    "param_dist = {'C': loguniform(0.001, 1)}\n",
    "feature_names = X.columns\n",
    "\n",
    "# model = LogisticRegression(penalty='l1', solver='liblinear', random_state=42)\n",
    "\n",
    "random_search = RandomizedSearchCV(estimator=base_model, param_distributions=param_dist, scoring=weighted_f1_scorer, cv=cv, n_iter=10, random_state=42)\n",
    "random_search.fit(X_train_scaled, y_train)\n",
    "\n",
    "# Get the best C value and F1 score\n",
    "best_C = random_search.best_params_['C']\n",
    "best_score = random_search.best_score_\n",
    "print(f\"Best C from Random Search: {best_C}\")\n",
    "print(f\"Best Weighted F1 Score from Random Search: {best_score:.3f}\")\n",
    "\n",
    "# Check the number of selected features\n",
    "best_model = random_search.best_estimator_\n",
    "num_selected_features = np.sum(best_model.coef_[0] != 0)\n",
    "print(f\"Number of selected features with best C: {num_selected_features}\")\n",
    "lasso_coefficients = best_model.coef_[0]\n",
    "selected_features_lasso = [feature_names[i] for i, coef in enumerate(lasso_coefficients) if coef != 0]\n",
    "print(\"Selected features by Lasso:\", selected_features_lasso)"
   ]
  },
  {
   "cell_type": "markdown",
   "metadata": {},
   "source": [
    "### Feature Importances"
   ]
  },
  {
   "cell_type": "code",
   "execution_count": null,
   "metadata": {},
   "outputs": [
    {
     "name": "stdout",
     "output_type": "stream",
     "text": [
      "All features - Cross-Validated Weighted F1 Score: 0.85, Cross-Validated PR-AUC: 0.16\n",
      "Top N Features:\n",
      "                                Feature  Importance\n",
      "10                  ALL_MeanAccountAge    0.104159\n",
      "0                               Amount    0.100544\n",
      "12  ALL_SumCurrentOutstandingBalExcMtg    0.096294\n",
      "11        ALL_SumCurrentOutstandingBal    0.083557\n",
      "14                DaysSinceApplication    0.058472\n",
      "2               ALL_AgeOfOldestAccount    0.058411\n",
      "5                      ALL_CountActive    0.045015\n",
      "3             ALL_AgeOfYoungestAccount    0.044157\n",
      "4                            ALL_Count    0.041752\n",
      "17                  ApplicationDay_sin    0.040382\n",
      "Top 10 features - Weighted F1 Score: 0.83, PR-AUC: 0.13\n",
      "\n",
      "Features above 80th percentile:\n",
      "                                Feature  Importance\n",
      "0                               Amount    0.100544\n",
      "2               ALL_AgeOfOldestAccount    0.058411\n",
      "3             ALL_AgeOfYoungestAccount    0.044157\n",
      "5                      ALL_CountActive    0.045015\n",
      "10                  ALL_MeanAccountAge    0.104159\n",
      "11        ALL_SumCurrentOutstandingBal    0.083557\n",
      "12  ALL_SumCurrentOutstandingBalExcMtg    0.096294\n",
      "14                DaysSinceApplication    0.058472\n",
      "Features above 80th percentile - Weighted F1 Score: 0.83, PR-AUC: 0.13\n"
     ]
    }
   ],
   "source": [
    "import numpy as np\n",
    "from sklearn.ensemble import RandomForestClassifier\n",
    "from sklearn.model_selection import StratifiedKFold, cross_val_score\n",
    "from sklearn.metrics import make_scorer, f1_score\n",
    "\n",
    "# Set up the cross-validation strategy\n",
    "cv = StratifiedKFold(n_splits=5, shuffle=True, random_state=42)\n",
    "# model = GradientBoostingClassifier(max_depth = 5, random_state=42)\n",
    "\n",
    "# List to store feature importances from each fold\n",
    "feature_importances = []\n",
    "\n",
    "# For each fold, train the model and extract feature importance\n",
    "for train_idx, val_idx in cv.split(X_train_scaled, y_train):\n",
    "    # Split training and validation data\n",
    "    # X_fold_train, X_fold_val = X_train_scaled[train_idx], X_train_scaled[val_idx]\n",
    "    # y_fold_train, y_fold_val = y_train[train_idx], y_train[val_idx]\n",
    "    X_fold_train, X_fold_val = X_train_scaled.iloc[train_idx], X_train_scaled.iloc[val_idx]\n",
    "    y_fold_train, y_fold_val = y_train.iloc[train_idx], y_train.iloc[val_idx]\n",
    "    \n",
    "    # Train the model\n",
    "    base_model.fit(X_fold_train, y_fold_train)\n",
    "    \n",
    "    # Store feature importances from this fold\n",
    "    feature_importances.append(base_model.feature_importances_)\n",
    "\n",
    "# Calculate the mean feature importance across all folds\n",
    "mean_importances = np.mean(feature_importances, axis=0)\n",
    "\n",
    "# Organize feature importances into a DataFrame for better readability\n",
    "feature_names = X.columns.to_list()\n",
    "feature_importances_df = pd.DataFrame({'Feature': feature_names, 'Importance': mean_importances})\n",
    "\n",
    "\n",
    "# Custom scorer\n",
    "weighted_f1_scorer = make_scorer(f1_score, average='weighted')\n",
    "pr_auc_scorer = make_scorer(average_precision_score, needs_proba=True)\n",
    "\n",
    "# Baseline Model: Evaluate using all features (no feature selection) on training data with cross-validation\n",
    "weighted_f1_all_features = cross_val_score(base_model, X_train_scaled, y_train, cv=cv, scoring=weighted_f1_scorer).mean()\n",
    "pr_auc_all_features = cross_val_score(base_model, X_train_scaled, y_train, cv=cv, scoring=pr_auc_scorer).mean()\n",
    "print(f\"All features - Cross-Validated Weighted F1 Score: {round(weighted_f1_all_features,2)}, Cross-Validated PR-AUC: {round(pr_auc_all_features,2)}\")\n",
    "\n",
    "\n",
    "# Method 1: Select the top N features (e.g., top 10 features)\n",
    "top_n = 10\n",
    "selected_features_top_n = feature_importances_df.sort_values(by='Importance', ascending=False).head(top_n)\n",
    "top_n_features = selected_features_top_n['Feature'].values\n",
    "print(\"Top N Features:\\n\", selected_features_top_n)\n",
    "\n",
    "# Re-train model using only the top N features and evaluate PR-AUC and weighted F1 score\n",
    "# Ensure top_n_features contains the column names, not indices\n",
    "X_train_top_n = X_train_scaled[top_n_features]  # Select columns by name\n",
    "X_test_top_n = X_test_scaled[top_n_features]    # Repeat for test set\n",
    "# X_train_top_n = X_train_scaled[:, [feature_names.index(f) for f in top_n_features]]\n",
    "weighted_f1_top_n = cross_val_score(base_model, X_train_top_n, y_train, cv=cv, scoring=weighted_f1_scorer).mean()\n",
    "pr_auc_top_n = cross_val_score(base_model, X_train_top_n, y_train, cv=cv, scoring=pr_auc_scorer).mean()\n",
    "print(f\"Top {top_n} features - Weighted F1 Score: {round(weighted_f1_top_n,2)}, PR-AUC: {round(pr_auc_top_n,2)}\")\n",
    "\n",
    "# Method 2: Select features above the 80th percentile threshold\n",
    "percentile_threshold = 80\n",
    "threshold = np.percentile(mean_importances, percentile_threshold)\n",
    "selected_features_percentile = feature_importances_df[feature_importances_df['Importance'] > threshold]\n",
    "percentile_features = selected_features_percentile['Feature'].values\n",
    "print(f\"\\nFeatures above {percentile_threshold}th percentile:\\n\", selected_features_percentile)\n",
    "\n",
    "# Re-train model using only the features above the threshold and evaluate PR-AUC and weighted F1 score\n",
    "# X_train_percentile = X_train_scaled[:, [feature_names.index(f) for f in percentile_features]]\n",
    "X_train_percentile = X_train_scaled[percentile_features]\n",
    "weighted_f1_percentile = cross_val_score(base_model, X_train_percentile, y_train, cv=cv, scoring=weighted_f1_scorer).mean()\n",
    "pr_auc_percentile = cross_val_score(base_model, X_train_percentile, y_train, cv=cv, scoring=pr_auc_scorer).mean()\n",
    "print(f\"Features above {percentile_threshold}th percentile - Weighted F1 Score: {round(weighted_f1_percentile,2)}, PR-AUC: {round(pr_auc_percentile,2)}\")"
   ]
  },
  {
   "cell_type": "code",
   "execution_count": null,
   "metadata": {},
   "outputs": [
    {
     "name": "stdout",
     "output_type": "stream",
     "text": [
      "All features - Test Weighted F1 Score: 0.8883270980019898, Test PR-AUC: 0.47675113195204877\n",
      "Top 10 features - Test Weighted F1 Score: 0.881339556603002, Test PR-AUC: 0.430222192789161\n",
      "Features above 80th percentile - Test Weighted F1 Score: 0.8765328576329638, Test PR-AUC: 0.41014361242232134\n"
     ]
    }
   ],
   "source": [
    "# ---------- Final Evaluation on Test Set ----------\n",
    "\n",
    "# Baseline Model: Evaluate using all features on the test set\n",
    "model.fit(X_train_scaled, y_train)  # Train on full training data with all features\n",
    "y_pred_test_all = model.predict(X_test_scaled)\n",
    "y_proba_test_all = model.predict_proba(X_test_scaled)[:, 1]\n",
    "f1_test_all = f1_score(y_test, y_pred_test_all, average='weighted')\n",
    "pr_auc_test_all = average_precision_score(y_test, y_proba_test_all)\n",
    "print(f\"All features - Test Weighted F1 Score: {f1_test_all}, Test PR-AUC: {pr_auc_test_all}\")\n",
    "\n",
    "# Final model training and testing using top N features\n",
    "X_train_top_n_final = X_train_scaled[:, [feature_names.index(f) for f in top_n_features]]\n",
    "X_test_top_n = X_test_scaled[:, [feature_names.index(f) for f in top_n_features]]\n",
    "\n",
    "# Fit the model on the selected features from the training set\n",
    "model.fit(X_train_top_n_final, y_train)\n",
    "\n",
    "# Make predictions on the test set\n",
    "y_pred_test_top_n = model.predict(X_test_top_n)\n",
    "y_proba_test_top_n = model.predict_proba(X_test_top_n)[:, 1]\n",
    "\n",
    "# Calculate F1 score and PR-AUC on the test set\n",
    "f1_test_top_n = f1_score(y_test, y_pred_test_top_n, average='weighted')\n",
    "pr_auc_test_top_n = average_precision_score(y_test, y_proba_test_top_n)\n",
    "\n",
    "print(f\"Top {top_n} features - Test Weighted F1 Score: {f1_test_top_n}, Test PR-AUC: {pr_auc_test_top_n}\")\n",
    "\n",
    "# Final model training and testing using percentile-based features\n",
    "X_train_percentile_final = X_train_scaled[:, [feature_names.index(f) for f in percentile_features]]\n",
    "X_test_percentile = X_test_scaled[:, [feature_names.index(f) for f in percentile_features]]\n",
    "\n",
    "# Fit the model on the selected features from the training set\n",
    "model.fit(X_train_percentile_final, y_train)\n",
    "\n",
    "# Make predictions on the test set\n",
    "y_pred_test_percentile = model.predict(X_test_percentile)\n",
    "y_proba_test_percentile = model.predict_proba(X_test_percentile)[:, 1]\n",
    "\n",
    "# Calculate F1 score and PR-AUC on the test set\n",
    "f1_test_percentile = f1_score(y_test, y_pred_test_percentile, average='weighted')\n",
    "pr_auc_test_percentile = average_precision_score(y_test, y_proba_test_percentile)\n",
    "\n",
    "print(f\"Features above {percentile_threshold}th percentile - Test Weighted F1 Score: {f1_test_percentile}, Test PR-AUC: {pr_auc_test_percentile}\")"
   ]
  },
  {
   "cell_type": "markdown",
   "metadata": {},
   "source": [
    "## 3-4. PCA (Dimentionality Reduction)"
   ]
  },
  {
   "cell_type": "code",
   "execution_count": null,
   "metadata": {},
   "outputs": [],
   "source": [
    "evaluator = ModelEvaluator()"
   ]
  },
  {
   "cell_type": "code",
   "execution_count": null,
   "metadata": {},
   "outputs": [],
   "source": [
    "from sklearn.decomposition import PCA\n",
    "\n",
    "pca = PCA(n_components=25)\n",
    "pca_X_train = pca.fit_transform(X_train_scaled)\n",
    "pca_X_test = pca.transform(X_test_scaled)"
   ]
  },
  {
   "cell_type": "code",
   "execution_count": null,
   "metadata": {},
   "outputs": [
    {
     "name": "stdout",
     "output_type": "stream",
     "text": [
      "PCA_n_features_25_f1_score :, 0.82\n",
      "PCA_n_features_25_pr_auc_score : 0.12\n"
     ]
    },
    {
     "data": {
      "image/png": "[encoded data removed]",
      "text/plain": [
       "<Figure size 720x432 with 1 Axes>"
      ]
     },
     "metadata": {
      "needs_background": "light"
     },
     "output_type": "display_data"
    }
   ],
   "source": [
    "evaluator.calculate_update_score(base_model, method = 'PCA', selected_features = 'manual', manual_X_train= pca_X_train, manual_X_test=pca_X_test)\n",
    "evaluator.plot_scores()"
   ]
  },
  {
   "cell_type": "code",
   "execution_count": null,
   "metadata": {},
   "outputs": [],
   "source": []
  },
  {
   "cell_type": "markdown",
   "metadata": {},
   "source": [
    "# 4. Modeling & Evaluation\n",
    "\n",
    "Try all the different models\n",
    "and also find the best threshold\n",
    "\n",
    "KNN???\n",
    "CatBoost\n",
    "GBM\n",
    "XGBoost\n",
    "Logistic Regression\n",
    "Decision trees\n",
    "Random Forests"
   ]
  },
  {
   "cell_type": "code",
   "execution_count": null,
   "metadata": {},
   "outputs": [],
   "source": [
    "from sklearn.model_selection import RandomizedSearchCV\n",
    "from scipy.stats import uniform, randint\n",
    "from sklearn import metrics\n",
    "import matplotlib.pyplot as plt\n",
    "from sklearn.metrics import precision_score, recall_score"
   ]
  },
  {
   "cell_type": "code",
   "execution_count": null,
   "metadata": {},
   "outputs": [],
   "source": [
    "def evaluate_model(model, x_test, y_test, desired_precision):\n",
    "\n",
    "    # predict test data\n",
    "    y_pred = model.predict(x_test)\n",
    "\n",
    "    # calculate accuracy, precision, recall, f1-score\n",
    "    acc = metrics.accuracy_score(y_test, y_pred)\n",
    "    prec = metrics.precision_score(y_test, y_pred)\n",
    "    rec = metrics.recall_score(y_test, y_pred)\n",
    "    f1 = metrics.f1_score(y_test, y_pred, average = 'weighted')\n",
    "\n",
    "    # Calculate area under curve (AUC)\n",
    "    y_pred_proba = model.predict_proba(x_test)[::,1]\n",
    "    fpr, tpr, _ = metrics.roc_curve(y_test, y_pred_proba)\n",
    "    auc = metrics.roc_auc_score(y_test, y_pred_proba)\n",
    "\n",
    "    # Display Confusion matrix\n",
    "    cm = metrics.confusion_matrix(y_test, y_pred)\n",
    "\n",
    "    clf_report = pd.DataFrame(metrics.classification_report(y_test, y_pred, output_dict=True)).transpose()\n",
    "    clf_report= clf_report.round(2)\n",
    "\n",
    "    # Predict probability\n",
    "    y_prob_test = model.predict_proba(X_test)[:,1]\n",
    "    precision, recall, thresholds = metrics.precision_recall_curve(y_test, y_prob_test)\n",
    "    pr_auc = metrics.auc(recall, precision)\n",
    "    # print('PR-AUC-score : ', pr_auc)\n",
    "\n",
    "\n",
    "    # desired_precision = 0.8\n",
    "    for p,r,t in zip(precision, recall, thresholds):\n",
    "        if p >= desired_precision :\n",
    "            print(f\"Threshold: {t:.2f}, Precision: {p:.2f}, Recall: {r:.2f}\")\n",
    "            selected_threshold = t\n",
    "            y_pred_adjusted = (y_prob_test >= selected_threshold).astype(int)\n",
    "            from sklearn.metrics import precision_score, recall_score\n",
    "\n",
    "            # Calculate precision and recall at the adjusted threshold\n",
    "            precision_adj = precision_score(y_test, y_pred_adjusted)\n",
    "            recall_adj = recall_score(y_test, y_pred_adjusted)\n",
    "\n",
    "            print(f\"Adjusted Precision: {precision_adj:.2f}, Adjusted Recall: {recall_adj:.2f}\")\n",
    "            break\n",
    "\n",
    "    # Plot the Precision-Recall curve\n",
    "    plt.figure(figsize=(6, 4))\n",
    "    plt.plot(recall, precision, marker='.', label='PR Curve')\n",
    "    plt.xlabel('Recall')\n",
    "    plt.ylabel('Precision')\n",
    "    plt.title('Precision-Recall Curve')\n",
    "    plt.legend()\n",
    "    plt.grid()\n",
    "    plt.show()\n",
    "\n",
    "    # print('Accuracy :', acc)\n",
    "    print('F1 Score :', round(f1,2))\n",
    "    print('PR-AUC-score :', round(pr_auc,2))\n",
    "    print('Precision :', round(prec,2))\n",
    "    print('Recall :', round(rec,2))\n",
    "    print('--------------------------------')\n",
    "    # print('AUC-score :', auc)\n",
    "    print('Confusion Matrix\\n :', cm)\n",
    "    print('--------------------------------')\n",
    "    print('Classification Report\\n', clf_report)\n",
    "\n",
    "\n",
    "    # return {'acc': acc, 'prec': prec, 'rec': rec, 'f1': f1,\n",
    "    #         'fpr': fpr, 'tpr': tpr, 'auc': auc, 'cm': cm, 'report' : clf_report}"
   ]
  },
  {
   "cell_type": "markdown",
   "metadata": {},
   "source": [
    "### Logistic Regression"
   ]
  },
  {
   "cell_type": "code",
   "execution_count": null,
   "metadata": {},
   "outputs": [
    {
     "data": {
      "image/png": "[encoded data removed]",
      "text/plain": [
       "<Figure size 432x288 with 1 Axes>"
      ]
     },
     "metadata": {
      "needs_background": "light"
     },
     "output_type": "display_data"
    },
    {
     "name": "stdout",
     "output_type": "stream",
     "text": [
      "F1 Score : 0.86\n",
      "PR-AUC-score : 0.31\n",
      "Precision : 0.5\n",
      "Recall : 0.06\n",
      "--------------------------------\n",
      "Confusion Matrix\n",
      " : [[1575   11]\n",
      " [ 173   11]]\n",
      "--------------------------------\n",
      "Classification Report\n",
      "               precision  recall  f1-score  support\n",
      "0                  0.90    0.99      0.94   1586.0\n",
      "1                  0.50    0.06      0.11    184.0\n",
      "accuracy           0.90    0.90      0.90      0.9\n",
      "macro avg          0.70    0.53      0.53   1770.0\n",
      "weighted avg       0.86    0.90      0.86   1770.0\n"
     ]
    }
   ],
   "source": [
    "from sklearn.linear_model import LogisticRegression\n",
    "\n",
    "lr_clf = LogisticRegression(solver = 'liblinear')\n",
    "lr_clf.fit(X_train_scaled, y_train)\n",
    "\n",
    "# Evaluate\n",
    "evaluate_model(lr_clf, X_test_scaled, y_test, 0.8)"
   ]
  },
  {
   "cell_type": "code",
   "execution_count": null,
   "metadata": {},
   "outputs": [
    {
     "data": {
      "text/plain": [
       "RandomizedSearchCV(cv=5, estimator=LogisticRegression(solver='liblinear'),\n",
       "                   n_iter=100, n_jobs=-1,\n",
       "                   param_distributions={'C': <scipy.stats._distn_infrastructure.rv_frozen object at 0x7f7978975c10>,\n",
       "                                        'penalty': ['l1', 'l2']},\n",
       "                   random_state=42, scoring='average_precision')"
      ]
     },
     "execution_count": 181,
     "metadata": {},
     "output_type": "execute_result"
    }
   ],
   "source": [
    "lr_clf = LogisticRegression(solver = 'liblinear')\n",
    "param_distributions = {'C' : uniform(0.01, 10),\n",
    "                       'penalty' : ['l1', 'l2']}\n",
    "\n",
    "lr_clf_cv = RandomizedSearchCV(lr_clf, param_distributions, n_iter = 100, scoring = 'average_precision', cv = 5, random_state = 42, n_jobs =-1)\n",
    "lr_clf_cv.fit(X_train, y_train)"
   ]
  },
  {
   "cell_type": "code",
   "execution_count": null,
   "metadata": {},
   "outputs": [
    {
     "data": {
      "image/png": "[encoded data removed]",
      "text/plain": [
       "<Figure size 432x288 with 1 Axes>"
      ]
     },
     "metadata": {
      "needs_background": "light"
     },
     "output_type": "display_data"
    },
    {
     "name": "stdout",
     "output_type": "stream",
     "text": [
      "F1 Score : 0.86\n",
      "PR-AUC-score : 0.32\n",
      "Precision : 0.5\n",
      "Recall : 0.06\n",
      "--------------------------------\n",
      "Confusion Matrix\n",
      " : [[1575   11]\n",
      " [ 173   11]]\n",
      "--------------------------------\n",
      "Classification Report\n",
      "               precision  recall  f1-score  support\n",
      "0                  0.90    0.99      0.94   1586.0\n",
      "1                  0.50    0.06      0.11    184.0\n",
      "accuracy           0.90    0.90      0.90      0.9\n",
      "macro avg          0.70    0.53      0.53   1770.0\n",
      "weighted avg       0.86    0.90      0.86   1770.0\n"
     ]
    }
   ],
   "source": [
    "# Evaluate\n",
    "evaluate_model(lr_clf_cv, X_test, y_test, 0.7)"
   ]
  },
  {
   "cell_type": "markdown",
   "metadata": {},
   "source": [
    "### KNN"
   ]
  },
  {
   "cell_type": "code",
   "execution_count": null,
   "metadata": {},
   "outputs": [
    {
     "data": {
      "image/png": "[encoded data removed]",
      "text/plain": [
       "<Figure size 432x288 with 1 Axes>"
      ]
     },
     "metadata": {
      "needs_background": "light"
     },
     "output_type": "display_data"
    },
    {
     "name": "stdout",
     "output_type": "stream",
     "text": [
      "F1 Score : 0.85\n",
      "PR-AUC-score : 0.2\n",
      "Precision : 0.29\n",
      "Recall : 0.08\n",
      "--------------------------------\n",
      "Confusion Matrix\n",
      " : [[1551   35]\n",
      " [ 170   14]]\n",
      "--------------------------------\n",
      "Classification Report\n",
      "               precision  recall  f1-score  support\n",
      "0                  0.90    0.98      0.94  1586.00\n",
      "1                  0.29    0.08      0.12   184.00\n",
      "accuracy           0.88    0.88      0.88     0.88\n",
      "macro avg          0.59    0.53      0.53  1770.00\n",
      "weighted avg       0.84    0.88      0.85  1770.00\n"
     ]
    }
   ],
   "source": [
    "from sklearn.neighbors import KNeighborsClassifier\n",
    "\n",
    "knn_clf = KNeighborsClassifier()\n",
    "knn_clf.fit(X_train, y_train)\n",
    "\n",
    "# Evaluate\n",
    "evaluate_model(knn_clf, X_test, y_test, 0.8)"
   ]
  },
  {
   "cell_type": "code",
   "execution_count": null,
   "metadata": {},
   "outputs": [
    {
     "data": {
      "text/plain": [
       "RandomizedSearchCV(cv=5, estimator=KNeighborsClassifier(), n_iter=100,\n",
       "                   n_jobs=-1,\n",
       "                   param_distributions={'metric': ['euclidean', 'manhattan',\n",
       "                                                   'minkowski'],\n",
       "                                        'n_neighbors': <scipy.stats._distn_infrastructure.rv_frozen object at 0x7f79a1955290>,\n",
       "                                        'weights': ['uniform', 'distance']},\n",
       "                   random_state=42, scoring='average_precision')"
      ]
     },
     "execution_count": 185,
     "metadata": {},
     "output_type": "execute_result"
    }
   ],
   "source": [
    "from sklearn.neighbors import KNeighborsClassifier\n",
    "\n",
    "knn_clf = KNeighborsClassifier()\n",
    "param_distributions = {\n",
    "    'n_neighbors': randint(1, 30),\n",
    "    'weights': ['uniform', 'distance'],\n",
    "    'metric': ['euclidean', 'manhattan', 'minkowski']\n",
    "}\n",
    "\n",
    "knn_clf_cv = RandomizedSearchCV(knn_clf, param_distributions, n_iter = 100, scoring = 'average_precision', cv = 5, random_state = 42, n_jobs =-1)\n",
    "\n",
    "knn_clf_cv.fit(X_train, y_train)"
   ]
  },
  {
   "cell_type": "code",
   "execution_count": null,
   "metadata": {},
   "outputs": [
    {
     "name": "stdout",
     "output_type": "stream",
     "text": [
      "Threshold: 0.65, Precision: 1.00, Recall: 0.01\n",
      "Adjusted Precision: 1.00, Adjusted Recall: 0.01\n"
     ]
    },
    {
     "data": {
      "image/png": "[encoded data removed]",
      "text/plain": [
       "<Figure size 432x288 with 1 Axes>"
      ]
     },
     "metadata": {
      "needs_background": "light"
     },
     "output_type": "display_data"
    },
    {
     "name": "stdout",
     "output_type": "stream",
     "text": [
      "F1 Score : 0.85\n",
      "PR-AUC-score : 0.25\n",
      "Precision : 0.5\n",
      "Recall : 0.02\n",
      "--------------------------------\n",
      "Confusion Matrix\n",
      " : [[1583    3]\n",
      " [ 181    3]]\n",
      "--------------------------------\n",
      "Classification Report\n",
      "               precision  recall  f1-score  support\n",
      "0                  0.90    1.00      0.95   1586.0\n",
      "1                  0.50    0.02      0.03    184.0\n",
      "accuracy           0.90    0.90      0.90      0.9\n",
      "macro avg          0.70    0.51      0.49   1770.0\n",
      "weighted avg       0.86    0.90      0.85   1770.0\n"
     ]
    }
   ],
   "source": [
    "# Evaluate\n",
    "evaluate_model(knn_clf_cv, X_test, y_test, 0.7)"
   ]
  },
  {
   "cell_type": "code",
   "execution_count": null,
   "metadata": {},
   "outputs": [],
   "source": []
  },
  {
   "cell_type": "markdown",
   "metadata": {},
   "source": [
    "### Decision Tree"
   ]
  },
  {
   "cell_type": "code",
   "execution_count": null,
   "metadata": {},
   "outputs": [
    {
     "data": {
      "image/png": "[encoded data removed]",
      "text/plain": [
       "<Figure size 432x288 with 1 Axes>"
      ]
     },
     "metadata": {
      "needs_background": "light"
     },
     "output_type": "display_data"
    },
    {
     "name": "stdout",
     "output_type": "stream",
     "text": [
      "F1 Score : 0.85\n",
      "PR-AUC-score : 0.34\n",
      "Precision : 0.29\n",
      "Recall : 0.33\n",
      "--------------------------------\n",
      "Confusion Matrix\n",
      " : [[1434  152]\n",
      " [ 123   61]]\n",
      "--------------------------------\n",
      "Classification Report\n",
      "               precision  recall  f1-score  support\n",
      "0                  0.92    0.90      0.91  1586.00\n",
      "1                  0.29    0.33      0.31   184.00\n",
      "accuracy           0.84    0.84      0.84     0.84\n",
      "macro avg          0.60    0.62      0.61  1770.00\n",
      "weighted avg       0.86    0.84      0.85  1770.00\n"
     ]
    }
   ],
   "source": [
    "from sklearn import tree\n",
    "\n",
    "# Decision Tree\n",
    "dt_clf = tree.DecisionTreeClassifier(random_state= 42)\n",
    "dt_clf.fit(X_train, y_train)\n",
    "\n",
    "# Evaluate model\n",
    "evaluate_model(dt_clf, X_test, y_test, 0.8)"
   ]
  },
  {
   "cell_type": "code",
   "execution_count": null,
   "metadata": {},
   "outputs": [
    {
     "data": {
      "text/plain": [
       "RandomizedSearchCV(cv=5, estimator=DecisionTreeClassifier(random_state=42),\n",
       "                   n_iter=100, n_jobs=-1,\n",
       "                   param_distributions={'max_depth': <scipy.stats._distn_infrastructure.rv_frozen object at 0x7f7989a1ed10>,\n",
       "                                        'min_samples_leaf': <scipy.stats._distn_infrastructure.rv_frozen object at 0x7f79aad1e7d0>,\n",
       "                                        'min_samples_split': <scipy.stats._distn_infrastructure.rv_frozen object at 0x7f79899cc250>},\n",
       "                   random_state=42, scoring='average_precision')"
      ]
     },
     "execution_count": 188,
     "metadata": {},
     "output_type": "execute_result"
    }
   ],
   "source": [
    "from sklearn import tree\n",
    "\n",
    "# Decision Tree\n",
    "dt_clf = tree.DecisionTreeClassifier(random_state= 42)\n",
    "param_distributions = {'max_depth' : randint(3,10),\n",
    "                       'min_samples_split' : randint(2,20),\n",
    "                       'min_samples_leaf' : randint(1,10)}\n",
    "\n",
    "dt_clf_cv = RandomizedSearchCV(dt_clf, param_distributions, n_iter = 100, scoring = 'average_precision', cv = 5, random_state = 42, n_jobs =-1)\n",
    "dt_clf_cv.fit(X_train, y_train)\n"
   ]
  },
  {
   "cell_type": "code",
   "execution_count": null,
   "metadata": {},
   "outputs": [
    {
     "data": {
      "image/png": "[encoded data removed]",
      "text/plain": [
       "<Figure size 432x288 with 1 Axes>"
      ]
     },
     "metadata": {
      "needs_background": "light"
     },
     "output_type": "display_data"
    },
    {
     "name": "stdout",
     "output_type": "stream",
     "text": [
      "F1 Score : 0.86\n",
      "PR-AUC-score : 0.34\n",
      "Precision : 0.41\n",
      "Recall : 0.08\n",
      "--------------------------------\n",
      "Confusion Matrix\n",
      " : [[1564   22]\n",
      " [ 169   15]]\n",
      "--------------------------------\n",
      "Classification Report\n",
      "               precision  recall  f1-score  support\n",
      "0                  0.90    0.99      0.94  1586.00\n",
      "1                  0.41    0.08      0.14   184.00\n",
      "accuracy           0.89    0.89      0.89     0.89\n",
      "macro avg          0.65    0.53      0.54  1770.00\n",
      "weighted avg       0.85    0.89      0.86  1770.00\n"
     ]
    }
   ],
   "source": [
    "# Evaluate model\n",
    "evaluate_model(dt_clf_cv, X_test, y_test, 0.8)"
   ]
  },
  {
   "cell_type": "code",
   "execution_count": null,
   "metadata": {},
   "outputs": [],
   "source": []
  },
  {
   "cell_type": "markdown",
   "metadata": {},
   "source": [
    "### Random Forest"
   ]
  },
  {
   "cell_type": "code",
   "execution_count": null,
   "metadata": {},
   "outputs": [
    {
     "name": "stdout",
     "output_type": "stream",
     "text": [
      "Threshold: 0.67, Precision: 1.00, Recall: 0.01\n",
      "Adjusted Precision: 1.00, Adjusted Recall: 0.01\n"
     ]
    },
    {
     "data": {
      "image/png": "[encoded data removed]",
      "text/plain": [
       "<Figure size 432x288 with 1 Axes>"
      ]
     },
     "metadata": {
      "needs_background": "light"
     },
     "output_type": "display_data"
    },
    {
     "name": "stdout",
     "output_type": "stream",
     "text": [
      "F1 Score : 0.87\n",
      "PR-AUC-score : 0.43\n",
      "Precision : 0.63\n",
      "Recall : 0.1\n",
      "--------------------------------\n",
      "Confusion Matrix\n",
      " : [[1575   11]\n",
      " [ 165   19]]\n",
      "--------------------------------\n",
      "Classification Report\n",
      "               precision  recall  f1-score  support\n",
      "0                  0.91    0.99      0.95   1586.0\n",
      "1                  0.63    0.10      0.18    184.0\n",
      "accuracy           0.90    0.90      0.90      0.9\n",
      "macro avg          0.77    0.55      0.56   1770.0\n",
      "weighted avg       0.88    0.90      0.87   1770.0\n"
     ]
    }
   ],
   "source": [
    "from sklearn.ensemble import RandomForestClassifier\n",
    "\n",
    "# Building Random Forest model \n",
    "rf_clf = RandomForestClassifier(random_state=0)\n",
    "rf_clf.fit(X_train, y_train)\n",
    "\n",
    "# Evaluate Model\n",
    "evaluate_model(rf_clf, X_test, y_test, 0.8)"
   ]
  },
  {
   "cell_type": "code",
   "execution_count": null,
   "metadata": {},
   "outputs": [
    {
     "data": {
      "text/plain": [
       "RandomizedSearchCV(cv=5, estimator=RandomForestClassifier(random_state=0),\n",
       "                   n_iter=100, n_jobs=-1,\n",
       "                   param_distributions={'max_depth': <scipy.stats._distn_infrastructure.rv_frozen object at 0x7f798997bc50>,\n",
       "                                        'min_samples_leaf': <scipy.stats._distn_infrastructure.rv_frozen object at 0x7f79a178cfd0>,\n",
       "                                        'min_samples_split': <scipy.stats._distn_infrastructure.rv_frozen object at 0x7f79897b7bd0>,\n",
       "                                        'n_estimators': <scipy.stats._distn_infrastructure.rv_frozen object at 0x7f79a1917a90>},\n",
       "                   random_state=42, scoring='average_precision')"
      ]
     },
     "execution_count": 192,
     "metadata": {},
     "output_type": "execute_result"
    }
   ],
   "source": [
    "from sklearn.ensemble import RandomForestClassifier\n",
    "\n",
    "# Building Random Forest model \n",
    "rf_clf = RandomForestClassifier(random_state=0)\n",
    "param_distributions = {\n",
    "    'n_estimators': randint(50, 300),\n",
    "    'max_depth': randint(5, 15),\n",
    "    'min_samples_split': randint(2, 10),\n",
    "    'min_samples_leaf': randint(1, 5)\n",
    "}\n",
    "\n",
    "rf_clf_cv = RandomizedSearchCV(rf_clf, param_distributions, n_iter=100, scoring='average_precision', cv=5, random_state=42, n_jobs=-1)\n",
    "rf_clf_cv.fit(X_train, y_train)"
   ]
  },
  {
   "cell_type": "code",
   "execution_count": null,
   "metadata": {},
   "outputs": [
    {
     "name": "stdout",
     "output_type": "stream",
     "text": [
      "Threshold: 0.41, Precision: 0.70, Recall: 0.14\n",
      "Adjusted Precision: 0.70, Adjusted Recall: 0.14\n"
     ]
    },
    {
     "data": {
      "image/png": "[encoded data removed]",
      "text/plain": [
       "<Figure size 432x288 with 1 Axes>"
      ]
     },
     "metadata": {
      "needs_background": "light"
     },
     "output_type": "display_data"
    },
    {
     "name": "stdout",
     "output_type": "stream",
     "text": [
      "F1 Score : 0.85\n",
      "PR-AUC-score : 0.48\n",
      "Precision : 1.0\n",
      "Recall : 0.01\n",
      "--------------------------------\n",
      "Confusion Matrix\n",
      " : [[1586    0]\n",
      " [ 183    1]]\n",
      "--------------------------------\n",
      "Classification Report\n",
      "               precision  recall  f1-score  support\n",
      "0                  0.90    1.00      0.95   1586.0\n",
      "1                  1.00    0.01      0.01    184.0\n",
      "accuracy           0.90    0.90      0.90      0.9\n",
      "macro avg          0.95    0.50      0.48   1770.0\n",
      "weighted avg       0.91    0.90      0.85   1770.0\n"
     ]
    }
   ],
   "source": [
    "# Evaluate Model\n",
    "evaluate_model(rf_clf_cv, X_test, y_test, 0.7)"
   ]
  },
  {
   "cell_type": "code",
   "execution_count": null,
   "metadata": {},
   "outputs": [],
   "source": []
  },
  {
   "cell_type": "markdown",
   "metadata": {},
   "source": [
    "### GBM"
   ]
  },
  {
   "cell_type": "code",
   "execution_count": null,
   "metadata": {},
   "outputs": [
    {
     "data": {
      "text/plain": [
       "RandomizedSearchCV(cv=5, estimator=GradientBoostingClassifier(), n_iter=100,\n",
       "                   n_jobs=-1,\n",
       "                   param_distributions={'learning_rate': <scipy.stats._distn_infrastructure.rv_frozen object at 0x7f79ba4b3450>,\n",
       "                                        'max_depth': <scipy.stats._distn_infrastructure.rv_frozen object at 0x7f79ba4889d0>,\n",
       "                                        'n_estimators': <scipy.stats._distn_infrastructure.rv_frozen object at 0x7f798977ee50>},\n",
       "                   random_state=42, scoring='average_precision')"
      ]
     },
     "execution_count": 194,
     "metadata": {},
     "output_type": "execute_result"
    }
   ],
   "source": [
    "from sklearn.ensemble import GradientBoostingClassifier\n",
    "\n",
    "# Building Random Forest model \n",
    "gbm_clf = GradientBoostingClassifier()\n",
    "param_distributions = {\n",
    "    'learning_rate': uniform(0.01, 0.29),\n",
    "    'n_estimators': randint(50, 300),\n",
    "    'max_depth': randint(3, 10)\n",
    "}\n",
    "\n",
    "gbm_clf_cv = RandomizedSearchCV(gbm_clf, param_distributions, n_iter = 100, scoring = 'average_precision', cv = 5, random_state = 42, n_jobs =-1)\n",
    "gbm_clf_cv.fit(X_train, y_train)"
   ]
  },
  {
   "cell_type": "code",
   "execution_count": null,
   "metadata": {},
   "outputs": [],
   "source": [
    "# 88 47\n",
    "# we have to find a threshold which can have the balanced precision and recall!\n"
   ]
  },
  {
   "cell_type": "code",
   "execution_count": null,
   "metadata": {},
   "outputs": [
    {
     "name": "stdout",
     "output_type": "stream",
     "text": [
      "Threshold: 0.56, Precision: 0.71, Recall: 0.16\n",
      "Adjusted Precision: 0.71, Adjusted Recall: 0.16\n"
     ]
    },
    {
     "data": {
      "image/png": "[encoded data removed]",
      "text/plain": [
       "<Figure size 432x288 with 1 Axes>"
      ]
     },
     "metadata": {
      "needs_background": "light"
     },
     "output_type": "display_data"
    },
    {
     "name": "stdout",
     "output_type": "stream",
     "text": [
      "F1 Score : 0.88\n",
      "PR-AUC-score : 0.45\n",
      "Precision : 0.57\n",
      "Recall : 0.2\n",
      "--------------------------------\n",
      "Confusion Matrix\n",
      " : [[1559   27]\n",
      " [ 148   36]]\n",
      "--------------------------------\n",
      "Classification Report\n",
      "               precision  recall  f1-score  support\n",
      "0                  0.91    0.98      0.95   1586.0\n",
      "1                  0.57    0.20      0.29    184.0\n",
      "accuracy           0.90    0.90      0.90      0.9\n",
      "macro avg          0.74    0.59      0.62   1770.0\n",
      "weighted avg       0.88    0.90      0.88   1770.0\n"
     ]
    }
   ],
   "source": [
    "# Evaluate Model\n",
    "evaluate_model(gbm_clf_cv, X_test, y_test, 0.7)"
   ]
  },
  {
   "cell_type": "markdown",
   "metadata": {},
   "source": [
    "### CatBoost"
   ]
  },
  {
   "cell_type": "code",
   "execution_count": null,
   "metadata": {},
   "outputs": [
    {
     "name": "stdout",
     "output_type": "stream",
     "text": [
      "Threshold: 0.62, Precision: 0.70, Recall: 0.14\n",
      "Adjusted Precision: 0.70, Adjusted Recall: 0.14\n"
     ]
    },
    {
     "data": {
      "image/png": "[encoded data removed]",
      "text/plain": [
       "<Figure size 432x288 with 1 Axes>"
      ]
     },
     "metadata": {
      "needs_background": "light"
     },
     "output_type": "display_data"
    },
    {
     "name": "stdout",
     "output_type": "stream",
     "text": [
      "F1 Score : 0.88\n",
      "PR-AUC-score : 0.48\n",
      "Precision : 0.57\n",
      "Recall : 0.21\n",
      "--------------------------------\n",
      "Confusion Matrix\n",
      " : [[1556   30]\n",
      " [ 145   39]]\n",
      "--------------------------------\n",
      "Classification Report\n",
      "               precision  recall  f1-score  support\n",
      "0                  0.91    0.98      0.95   1586.0\n",
      "1                  0.57    0.21      0.31    184.0\n",
      "accuracy           0.90    0.90      0.90      0.9\n",
      "macro avg          0.74    0.60      0.63   1770.0\n",
      "weighted avg       0.88    0.90      0.88   1770.0\n"
     ]
    }
   ],
   "source": [
    "from catboost import CatBoostClassifier\n",
    "\n",
    "# Building Random Forest model \n",
    "cb_clf = CatBoostClassifier(verbose = 0, random_state = 42, depth = 5)\n",
    "# (n_estimators= 100, max_depth = 1, learning_rate= 1.0, random_state=0)\n",
    "cb_clf.fit(X_train, y_train)\n",
    "\n",
    "# Evaluate Model\n",
    "evaluate_model(cb_clf, X_test, y_test, 0.7)"
   ]
  },
  {
   "cell_type": "markdown",
   "metadata": {},
   "source": [
    "### XGBoost"
   ]
  },
  {
   "cell_type": "code",
   "execution_count": null,
   "metadata": {},
   "outputs": [
    {
     "name": "stdout",
     "output_type": "stream",
     "text": [
      "Threshold: 0.77, Precision: 0.70, Recall: 0.11\n",
      "Adjusted Precision: 0.70, Adjusted Recall: 0.11\n"
     ]
    },
    {
     "data": {
      "image/png": "[encoded data removed]",
      "text/plain": [
       "<Figure size 432x288 with 1 Axes>"
      ]
     },
     "metadata": {
      "needs_background": "light"
     },
     "output_type": "display_data"
    },
    {
     "name": "stdout",
     "output_type": "stream",
     "text": [
      "F1 Score : 0.88\n",
      "PR-AUC-score : 0.44\n",
      "Precision : 0.51\n",
      "Recall : 0.27\n",
      "--------------------------------\n",
      "Confusion Matrix\n",
      " : [[1539   47]\n",
      " [ 135   49]]\n",
      "--------------------------------\n",
      "Classification Report\n",
      "               precision  recall  f1-score  support\n",
      "0                  0.92    0.97      0.94   1586.0\n",
      "1                  0.51    0.27      0.35    184.0\n",
      "accuracy           0.90    0.90      0.90      0.9\n",
      "macro avg          0.71    0.62      0.65   1770.0\n",
      "weighted avg       0.88    0.90      0.88   1770.0\n"
     ]
    }
   ],
   "source": [
    "from xgboost import XGBClassifier\n",
    "\n",
    "# Building Random Forest model \n",
    "xgb_clf = XGBClassifier()\n",
    "# (n_estimators= 100, max_depth = 1, learning_rate= 1.0, random_state=0)\n",
    "xgb_clf.fit(X_train, y_train)\n",
    "\n",
    "# Evaluate Model\n",
    "evaluate_model(xgb_clf, X_test, y_test, 0.7)"
   ]
  },
  {
   "cell_type": "code",
   "execution_count": null,
   "metadata": {},
   "outputs": [
    {
     "data": {
      "text/plain": [
       "RandomizedSearchCV(cv=5,\n",
       "                   estimator=XGBClassifier(base_score=None, booster=None,\n",
       "                                           callbacks=None,\n",
       "                                           colsample_bylevel=None,\n",
       "                                           colsample_bynode=None,\n",
       "                                           colsample_bytree=None,\n",
       "                                           early_stopping_rounds=None,\n",
       "                                           enable_categorical=False,\n",
       "                                           eval_metric=None, gamma=None,\n",
       "                                           gpu_id=None, grow_policy=None,\n",
       "                                           importance_type=None,\n",
       "                                           interaction_constraints=None,\n",
       "                                           learning_rate=None, max_bin=None,...\n",
       "                                        'max_depth': <scipy.stats._distn_infrastructure.rv_frozen object at 0x7f79ba60b150>,\n",
       "                                        'min_child_weight': <scipy.stats._distn_infrastructure.rv_frozen object at 0x7f79ba60b390>,\n",
       "                                        'n_estimators': <scipy.stats._distn_infrastructure.rv_frozen object at 0x7f7988e0a410>,\n",
       "                                        'subsample': <scipy.stats._distn_infrastructure.rv_frozen object at 0x7f79ba60b910>},\n",
       "                   random_state=42, scoring='average_precision')"
      ]
     },
     "execution_count": 208,
     "metadata": {},
     "output_type": "execute_result"
    }
   ],
   "source": [
    "scale_pos_weight = len(y_train[y_train == 0]) / len(y_train[y_train == 1])\n",
    "\n",
    "# Define the parameter distributions for RandomizedSearchCV\n",
    "param_distributions = {\n",
    "    'n_estimators': randint(50, 300),            # Randomly choose values between 50 and 300\n",
    "    'learning_rate': uniform(0.01, 0.3),         # Uniform distribution from 0.01 to 0.3\n",
    "    'max_depth': randint(3, 10),                 # Randomly choose values between 3 and 10\n",
    "    'min_child_weight': randint(1, 10),          # Randomly choose values between 1 and 10\n",
    "    'gamma': uniform(0, 0.5),                    # Uniform distribution from 0 to 0.5\n",
    "    'subsample': uniform(0.5, 0.5),              # Uniform distribution from 0.5 to 1.0\n",
    "    'colsample_bytree': uniform(0.3, 0.7),       # Uniform distribution from 0.3 to 1.0\n",
    "    # 'scale_pos_weight': [scale_pos_weight]       # Use calculated scale_pos_weight for class imbalance\n",
    "}\n",
    "\n",
    "# Initialize the XGBClassifier\n",
    "# xgb_clf = XGBClassifier()\n",
    "\n",
    "# Set up RandomizedSearchCV with PR-AUC as the scoring metric\n",
    "xgb_clf_cv = RandomizedSearchCV(\n",
    "    estimator=XGBClassifier(),\n",
    "    param_distributions=param_distributions,\n",
    "    n_iter=100,\n",
    "    scoring='average_precision',  # Use PR-AUC (average precision) as the scoring metric\n",
    "    cv=5,\n",
    "    random_state=42,\n",
    "    n_jobs=-1\n",
    ")\n",
    "\n",
    "# Fit RandomizedSearchCV\n",
    "xgb_clf_cv.fit(X_train, y_train)"
   ]
  },
  {
   "cell_type": "code",
   "execution_count": null,
   "metadata": {},
   "outputs": [
    {
     "name": "stdout",
     "output_type": "stream",
     "text": [
      "Threshold: 0.62, Precision: 0.81, Recall: 0.11\n",
      "Adjusted Precision: 0.81, Adjusted Recall: 0.11\n"
     ]
    },
    {
     "data": {
      "image/png": "[encoded data removed]",
      "text/plain": [
       "<Figure size 432x288 with 1 Axes>"
      ]
     },
     "metadata": {
      "needs_background": "light"
     },
     "output_type": "display_data"
    },
    {
     "name": "stdout",
     "output_type": "stream",
     "text": [
      "F1 Score : 0.88\n",
      "PR-AUC-score : 0.48\n",
      "Precision : 0.62\n",
      "Recall : 0.22\n",
      "--------------------------------\n",
      "Confusion Matrix\n",
      " : [[1561   25]\n",
      " [ 144   40]]\n",
      "--------------------------------\n",
      "Classification Report\n",
      "               precision  recall  f1-score  support\n",
      "0                  0.92    0.98      0.95   1586.0\n",
      "1                  0.62    0.22      0.32    184.0\n",
      "accuracy           0.90    0.90      0.90      0.9\n",
      "macro avg          0.77    0.60      0.63   1770.0\n",
      "weighted avg       0.88    0.90      0.88   1770.0\n"
     ]
    }
   ],
   "source": [
    "# Evaluate Model\n",
    "evaluate_model(xgb_clf_cv, X_test, y_test, desired_precision= 0.8)"
   ]
  },
  {
   "cell_type": "markdown",
   "metadata": {},
   "source": [
    "1. pr-auc score, f1 score 어느정도 되는 모델을 찾기 (GridSearchCV)\n",
    "2. threshold 조정하여 precision-recall balance"
   ]
  },
  {
   "cell_type": "markdown",
   "metadata": {},
   "source": [
    "In our case, In lending scenarios, in my personal opinion, i believe the precision is slightly more important to avoid the risk of bad loans. but i am not sure about what your team and organization aims for. if retaining potential customer is a concern, a high recall could also be a valuable option. \n",
    "but yea, since i don't really know about the goal, I'd definitely look at F1 score for having safe precision and recall balance.\n",
    "\n",
    "High precision -> conservative, it's very selective about which applications it predics as successful, but it misses many actual successes.\n",
    "High precision is valuable if avoiding bad loans is a priority\n",
    "What's the priority\n",
    "\t•\tIf the priority is risk minimization (avoiding defaults and reducing financial loss), then a higher precision and lower recall can be justifiable. A conservative threshold (like 0.90) helps ensure that only highly likely successful applicants are approved, aligning with a risk-averse approach.\n",
    "\t•\tIf the goal includes capturing more successful applicants (e.g., maximizing the loan portfolio’s profitability and retaining customers), then a recall of 0.17 is too low. In this case, you’d want a threshold that balances recall and precision more effectively, as rejecting too many successful applicants could hinder growth.\n",
    "\n",
    "\n",
    "precision 0.82 : \n",
    "recall 0.17 : \n",
    "\n"
   ]
  },
  {
   "cell_type": "markdown",
   "metadata": {},
   "source": [
    "# Pycaret"
   ]
  },
  {
   "cell_type": "code",
   "execution_count": 1,
   "metadata": {},
   "outputs": [],
   "source": [
    "from pycaret.classification import *"
   ]
  },
  {
   "cell_type": "code",
   "execution_count": 2,
   "metadata": {},
   "outputs": [],
   "source": [
    "import pandas as pd"
   ]
  },
  {
   "cell_type": "code",
   "execution_count": 3,
   "metadata": {},
   "outputs": [],
   "source": [
    "full_df = pd.read_csv('full_df.csv')"
   ]
  },
  {
   "cell_type": "code",
   "execution_count": 4,
   "metadata": {},
   "outputs": [],
   "source": [
    "full_df.drop(columns = 'UID', inplace= True)"
   ]
  },
  {
   "cell_type": "code",
   "execution_count": null,
   "metadata": {},
   "outputs": [],
   "source": [
    "# best = \n",
    "compare_models(sort = 'F1', verbose = True, turbo = True, n_select = 3)"
   ]
  },
  {
   "cell_type": "code",
   "execution_count": null,
   "metadata": {},
   "outputs": [],
   "source": [
    "tune_model(best[0], optimize = 'F1', n_iter = 20)"
   ]
  },
  {
   "cell_type": "code",
   "execution_count": null,
   "metadata": {},
   "outputs": [],
   "source": [
    "blended_model = blend_models(best[:3])"
   ]
  },
  {
   "cell_type": "code",
   "execution_count": null,
   "metadata": {},
   "outputs": [],
   "source": [
    "evaluate_model(blended_model)"
   ]
  },
  {
   "cell_type": "code",
   "execution_count": null,
   "metadata": {},
   "outputs": [],
   "source": [
    "plot_model(blended_model, plot = 'confusion_matrix')"
   ]
  }
 ],
 "metadata": {
  "kernelspec": {
   "display_name": "venv",
   "language": "python",
   "name": "python3"
  },
  "language_info": {
   "codemirror_mode": {
    "name": "ipython",
    "version": 3
   },
   "file_extension": ".py",
   "mimetype": "text/x-python",
   "name": "python",
   "nbconvert_exporter": "python",
   "pygments_lexer": "ipython3",
   "version": "3.8.20"
  }
 },
 "nbformat": 4,
 "nbformat_minor": 2
}
